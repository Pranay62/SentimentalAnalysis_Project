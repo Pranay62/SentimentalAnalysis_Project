{
 "cells": [
  {
   "cell_type": "markdown",
   "id": "b1ff754d-713b-4e41-a437-dd29175f0643",
   "metadata": {},
   "source": [
    "# Read the csv using pandas"
   ]
  },
  {
   "cell_type": "code",
   "execution_count": 14,
   "id": "6ef4e2b3-ed04-425a-9b57-1b05955b4269",
   "metadata": {},
   "outputs": [],
   "source": [
    "#import libraries\n",
    "import pandas as pd"
   ]
  },
  {
   "cell_type": "code",
   "execution_count": 15,
   "id": "c5b1ae87-88dd-4ede-868b-a4f79f368680",
   "metadata": {},
   "outputs": [],
   "source": [
    "df = pd.read_csv('AMAZON_MOBILE_DATA.csv',nrows=10000)\n",
    "# Read the csv using pandas"
   ]
  },
  {
   "cell_type": "markdown",
   "id": "3630e8ce-066c-44da-a3c6-65928027b50f",
   "metadata": {},
   "source": [
    "# Printing the first few rows from top"
   ]
  },
  {
   "cell_type": "code",
   "execution_count": 16,
   "id": "adf6cd06-2a44-458f-935e-824bcc39be9f",
   "metadata": {},
   "outputs": [
    {
     "data": {
      "text/html": [
       "<div>\n",
       "<style scoped>\n",
       "    .dataframe tbody tr th:only-of-type {\n",
       "        vertical-align: middle;\n",
       "    }\n",
       "\n",
       "    .dataframe tbody tr th {\n",
       "        vertical-align: top;\n",
       "    }\n",
       "\n",
       "    .dataframe thead th {\n",
       "        text-align: right;\n",
       "    }\n",
       "</style>\n",
       "<table border=\"1\" class=\"dataframe\">\n",
       "  <thead>\n",
       "    <tr style=\"text-align: right;\">\n",
       "      <th></th>\n",
       "      <th>Product Name</th>\n",
       "      <th>Brand Name</th>\n",
       "      <th>Price</th>\n",
       "      <th>Rating</th>\n",
       "      <th>Reviews</th>\n",
       "      <th>Review Votes</th>\n",
       "    </tr>\n",
       "  </thead>\n",
       "  <tbody>\n",
       "    <tr>\n",
       "      <th>0</th>\n",
       "      <td>\"CLEAR CLEAN ESN\" Sprint EPIC 4G Galaxy SPH-D7...</td>\n",
       "      <td>Samsung</td>\n",
       "      <td>199.99</td>\n",
       "      <td>5</td>\n",
       "      <td>I feel so LUCKY to have found this used (phone...</td>\n",
       "      <td>1.0</td>\n",
       "    </tr>\n",
       "    <tr>\n",
       "      <th>1</th>\n",
       "      <td>\"CLEAR CLEAN ESN\" Sprint EPIC 4G Galaxy SPH-D7...</td>\n",
       "      <td>Samsung</td>\n",
       "      <td>199.99</td>\n",
       "      <td>4</td>\n",
       "      <td>nice phone, nice up grade from my pantach revu...</td>\n",
       "      <td>0.0</td>\n",
       "    </tr>\n",
       "    <tr>\n",
       "      <th>2</th>\n",
       "      <td>\"CLEAR CLEAN ESN\" Sprint EPIC 4G Galaxy SPH-D7...</td>\n",
       "      <td>Samsung</td>\n",
       "      <td>199.99</td>\n",
       "      <td>5</td>\n",
       "      <td>Very pleased</td>\n",
       "      <td>0.0</td>\n",
       "    </tr>\n",
       "    <tr>\n",
       "      <th>3</th>\n",
       "      <td>\"CLEAR CLEAN ESN\" Sprint EPIC 4G Galaxy SPH-D7...</td>\n",
       "      <td>Samsung</td>\n",
       "      <td>199.99</td>\n",
       "      <td>4</td>\n",
       "      <td>It works good but it goes slow sometimes but i...</td>\n",
       "      <td>0.0</td>\n",
       "    </tr>\n",
       "    <tr>\n",
       "      <th>4</th>\n",
       "      <td>\"CLEAR CLEAN ESN\" Sprint EPIC 4G Galaxy SPH-D7...</td>\n",
       "      <td>Samsung</td>\n",
       "      <td>199.99</td>\n",
       "      <td>4</td>\n",
       "      <td>Great phone to replace my lost phone. The only...</td>\n",
       "      <td>0.0</td>\n",
       "    </tr>\n",
       "  </tbody>\n",
       "</table>\n",
       "</div>"
      ],
      "text/plain": [
       "                                        Product Name Brand Name   Price  \\\n",
       "0  \"CLEAR CLEAN ESN\" Sprint EPIC 4G Galaxy SPH-D7...    Samsung  199.99   \n",
       "1  \"CLEAR CLEAN ESN\" Sprint EPIC 4G Galaxy SPH-D7...    Samsung  199.99   \n",
       "2  \"CLEAR CLEAN ESN\" Sprint EPIC 4G Galaxy SPH-D7...    Samsung  199.99   \n",
       "3  \"CLEAR CLEAN ESN\" Sprint EPIC 4G Galaxy SPH-D7...    Samsung  199.99   \n",
       "4  \"CLEAR CLEAN ESN\" Sprint EPIC 4G Galaxy SPH-D7...    Samsung  199.99   \n",
       "\n",
       "   Rating                                            Reviews  Review Votes  \n",
       "0       5  I feel so LUCKY to have found this used (phone...           1.0  \n",
       "1       4  nice phone, nice up grade from my pantach revu...           0.0  \n",
       "2       5                                       Very pleased           0.0  \n",
       "3       4  It works good but it goes slow sometimes but i...           0.0  \n",
       "4       4  Great phone to replace my lost phone. The only...           0.0  "
      ]
     },
     "execution_count": 16,
     "metadata": {},
     "output_type": "execute_result"
    }
   ],
   "source": [
    "df.head()"
   ]
  },
  {
   "cell_type": "markdown",
   "id": "d93ca92b-9544-4716-9928-b04eed756b4b",
   "metadata": {},
   "source": [
    "# Prints information about the Amazon DataSet."
   ]
  },
  {
   "cell_type": "code",
   "execution_count": 17,
   "id": "edbe2b06-5a7a-46ec-81e3-2c8546a6964d",
   "metadata": {},
   "outputs": [
    {
     "name": "stdout",
     "output_type": "stream",
     "text": [
      "<class 'pandas.core.frame.DataFrame'>\n",
      "RangeIndex: 10000 entries, 0 to 9999\n",
      "Data columns (total 6 columns):\n",
      " #   Column        Non-Null Count  Dtype  \n",
      "---  ------        --------------  -----  \n",
      " 0   Product Name  10000 non-null  object \n",
      " 1   Brand Name    7473 non-null   object \n",
      " 2   Price         9307 non-null   float64\n",
      " 3   Rating        10000 non-null  int64  \n",
      " 4   Reviews       9999 non-null   object \n",
      " 5   Review Votes  9676 non-null   float64\n",
      "dtypes: float64(2), int64(1), object(3)\n",
      "memory usage: 468.9+ KB\n"
     ]
    }
   ],
   "source": [
    "df.info()"
   ]
  },
  {
   "cell_type": "markdown",
   "id": "5e1f8f83-b3b5-489c-adc1-9d46fb1b8ffb",
   "metadata": {},
   "source": [
    "# COUNT OF NULL VALUE"
   ]
  },
  {
   "cell_type": "code",
   "execution_count": 18,
   "id": "d5f276fc-914a-432f-ad0c-ec130766152a",
   "metadata": {},
   "outputs": [
    {
     "name": "stdout",
     "output_type": "stream",
     "text": [
      "Number of the mobile phone dataset from Amazon:  (10000, 6)\n",
      "Product Name       0\n",
      "Brand Name      2527\n",
      "Price            693\n",
      "Rating             0\n",
      "Reviews            1\n",
      "Review Votes     324\n",
      "dtype: int64\n"
     ]
    }
   ],
   "source": [
    "print(\"Number of the mobile phone dataset from Amazon: \", df.shape)\n",
    "print(df.isnull().sum())\n",
    "# printing count of null value present in each coloumn(attributes)"
   ]
  },
  {
   "cell_type": "markdown",
   "id": "9234fdb3-9855-4fd1-9b95-7425d005d97d",
   "metadata": {},
   "source": [
    " #  DROP the row containg blank Reviews"
   ]
  },
  {
   "cell_type": "code",
   "execution_count": 19,
   "id": "352d868b-bf1e-4967-a448-19f2fa148ea6",
   "metadata": {},
   "outputs": [],
   "source": [
    "df.dropna(subset=['Reviews'], inplace = True)"
   ]
  },
  {
   "cell_type": "markdown",
   "id": "6b1388bc-d096-467b-8fdd-4919b014ffd1",
   "metadata": {},
   "source": [
    "#     FILL Values in \"Brand Name\",\"Price\", \"Review Votes\" column which containing blank values"
   ]
  },
  {
   "cell_type": "code",
   "execution_count": 20,
   "id": "e30cffa2-ddb7-4862-ae1c-8cacf053f14a",
   "metadata": {},
   "outputs": [],
   "source": [
    "df[\"Brand Name\"].fillna(value = \"Missing\", inplace = True)\n",
    "df[\"Price\"].fillna(value = 0, inplace = True)\n",
    "df[\"Review Votes\"].fillna(value = 0, inplace = True)"
   ]
  },
  {
   "cell_type": "markdown",
   "id": "6953f34d-d36a-4f60-a1bb-01f4ca53aacb",
   "metadata": {},
   "source": [
    " #                                 CHECKING the NULL VALUE FROM EACH COLUMN"
   ]
  },
  {
   "cell_type": "code",
   "execution_count": 21,
   "id": "1865bc40-910b-4603-b078-d1340d02f86c",
   "metadata": {},
   "outputs": [
    {
     "name": "stdout",
     "output_type": "stream",
     "text": [
      "Product Name    0\n",
      "Brand Name      0\n",
      "Price           0\n",
      "Rating          0\n",
      "Reviews         0\n",
      "Review Votes    0\n",
      "dtype: int64\n"
     ]
    }
   ],
   "source": [
    "print(df.isnull().sum())"
   ]
  },
  {
   "cell_type": "code",
   "execution_count": 22,
   "id": "56382b3c-51d5-4ac8-8229-cf539082b88b",
   "metadata": {},
   "outputs": [],
   "source": [
    "#import libraries\n",
    "import matplotlib.pyplot as plt\n",
    "import seaborn as sns"
   ]
  },
  {
   "cell_type": "code",
   "execution_count": 23,
   "id": "3895e7a2-7efd-403f-90fc-8718b4cd7ca0",
   "metadata": {},
   "outputs": [
    {
     "data": {
      "image/png": "[encoded data removed]",
      "text/plain": [
       "<Figure size 504x432 with 1 Axes>"
      ]
     },
     "metadata": {
      "needs_background": "light"
     },
     "output_type": "display_data"
    }
   ],
   "source": [
    "import matplotlib.pyplot as plt\n",
    "Sentiment = df['Rating'].value_counts()\n",
    "plt.figure(figsize=(7, 6))\n",
    "ax = Sentiment.plot(kind='bar', rot=0, color=sns.color_palette(\"RdYlGn\", 6))\n",
    "ax.set_title(\"Distribution of Ratings across the entire dataset\", y = 1)\n",
    "ax.set_xlabel('Ratings of Reviews')\n",
    "ax.set_ylabel('Number of reviews corresponding to each of 5 ratings')\n",
    "ax.set_xticklabels(('5', '1', '4', '3', '2'))\n",
    "\n",
    "for rect in ax.patches:\n",
    "    y_value = rect.get_height()\n",
    "    x_value = rect.get_x() + rect.get_width() / 2\n",
    "    space = 1\n",
    "    label = \"{:.0f}\".format(y_value)\n",
    "    ax.annotate(label, (x_value, y_value), xytext=(0, space), textcoords=\"offset points\", ha='center', va='bottom')\n",
    "plt.show()"
   ]
  },
  {
   "cell_type": "markdown",
   "id": "9cb235ab-3012-4a61-b096-a029cc9ba71c",
   "metadata": {},
   "source": [
    "   #                        TEXT PROCESSING - STEP 1:- LOWER CASING"
   ]
  },
  {
   "cell_type": "code",
   "execution_count": 24,
   "id": "fa27de67-0208-45c8-87eb-adf34ad3999c",
   "metadata": {},
   "outputs": [],
   "source": [
    "df['text_lower']=df['Reviews'].str.lower()\n",
    "#Lower the cases of reviews section"
   ]
  },
  {
   "cell_type": "markdown",
   "id": "c5b2b963-fb3e-48f2-9aea-962dd2c8cbad",
   "metadata": {},
   "source": [
    " #                               TEXT PROCESSING - STEP 2:- REMOVAL OF URLs"
   ]
  },
  {
   "cell_type": "code",
   "execution_count": 25,
   "id": "63a77b95-7e86-4aa2-a734-72932eff0702",
   "metadata": {},
   "outputs": [
    {
     "name": "stdout",
     "output_type": "stream",
     "text": [
      "CPU times: total: 31.2 ms\n",
      "Wall time: 29.1 ms\n"
     ]
    }
   ],
   "source": [
    "%%time\n",
    "import re\n",
    "df[\"text_url\"] = df[\"text_lower\"].apply(lambda s: ' '.join(re.sub(\"(https:\\/\\/.*/)\", \" \", s).split()))"
   ]
  },
  {
   "cell_type": "markdown",
   "id": "e7296757-362e-4bcb-b234-d07d29ffe68f",
   "metadata": {},
   "source": [
    " #                              TEXT PROCESSING - STEP 3:- Removal of Punctuations"
   ]
  },
  {
   "cell_type": "code",
   "execution_count": 26,
   "id": "9c2673d5-76ed-4144-ab17-83f01753869c",
   "metadata": {},
   "outputs": [
    {
     "name": "stdout",
     "output_type": "stream",
     "text": [
      "CPU times: total: 46.9 ms\n",
      "Wall time: 38 ms\n"
     ]
    },
    {
     "name": "stderr",
     "output_type": "stream",
     "text": [
      "<timed exec>:1: FutureWarning: The default value of regex will change from True to False in a future version.\n"
     ]
    }
   ],
   "source": [
    "%%time\n",
    "df[\"text_punct\"] = df['text_url'].str.replace('[^\\w\\s]','')\n",
    "import warnings\n",
    "warnings.filterwarnings('ignore')"
   ]
  },
  {
   "cell_type": "code",
   "execution_count": 27,
   "id": "1136fd89-967a-47e0-a9aa-a95a90bbb227",
   "metadata": {},
   "outputs": [
    {
     "data": {
      "text/html": [
       "<div>\n",
       "<style scoped>\n",
       "    .dataframe tbody tr th:only-of-type {\n",
       "        vertical-align: middle;\n",
       "    }\n",
       "\n",
       "    .dataframe tbody tr th {\n",
       "        vertical-align: top;\n",
       "    }\n",
       "\n",
       "    .dataframe thead th {\n",
       "        text-align: right;\n",
       "    }\n",
       "</style>\n",
       "<table border=\"1\" class=\"dataframe\">\n",
       "  <thead>\n",
       "    <tr style=\"text-align: right;\">\n",
       "      <th></th>\n",
       "      <th>Product Name</th>\n",
       "      <th>Brand Name</th>\n",
       "      <th>Price</th>\n",
       "      <th>Rating</th>\n",
       "      <th>Reviews</th>\n",
       "      <th>Review Votes</th>\n",
       "      <th>text_lower</th>\n",
       "      <th>text_url</th>\n",
       "      <th>text_punct</th>\n",
       "    </tr>\n",
       "  </thead>\n",
       "  <tbody>\n",
       "    <tr>\n",
       "      <th>0</th>\n",
       "      <td>\"CLEAR CLEAN ESN\" Sprint EPIC 4G Galaxy SPH-D7...</td>\n",
       "      <td>Samsung</td>\n",
       "      <td>199.99</td>\n",
       "      <td>5</td>\n",
       "      <td>I feel so LUCKY to have found this used (phone...</td>\n",
       "      <td>1.0</td>\n",
       "      <td>i feel so lucky to have found this used (phone...</td>\n",
       "      <td>i feel so lucky to have found this used (phone...</td>\n",
       "      <td>i feel so lucky to have found this used phone ...</td>\n",
       "    </tr>\n",
       "    <tr>\n",
       "      <th>1</th>\n",
       "      <td>\"CLEAR CLEAN ESN\" Sprint EPIC 4G Galaxy SPH-D7...</td>\n",
       "      <td>Samsung</td>\n",
       "      <td>199.99</td>\n",
       "      <td>4</td>\n",
       "      <td>nice phone, nice up grade from my pantach revu...</td>\n",
       "      <td>0.0</td>\n",
       "      <td>nice phone, nice up grade from my pantach revu...</td>\n",
       "      <td>nice phone, nice up grade from my pantach revu...</td>\n",
       "      <td>nice phone nice up grade from my pantach revue...</td>\n",
       "    </tr>\n",
       "    <tr>\n",
       "      <th>2</th>\n",
       "      <td>\"CLEAR CLEAN ESN\" Sprint EPIC 4G Galaxy SPH-D7...</td>\n",
       "      <td>Samsung</td>\n",
       "      <td>199.99</td>\n",
       "      <td>5</td>\n",
       "      <td>Very pleased</td>\n",
       "      <td>0.0</td>\n",
       "      <td>very pleased</td>\n",
       "      <td>very pleased</td>\n",
       "      <td>very pleased</td>\n",
       "    </tr>\n",
       "    <tr>\n",
       "      <th>3</th>\n",
       "      <td>\"CLEAR CLEAN ESN\" Sprint EPIC 4G Galaxy SPH-D7...</td>\n",
       "      <td>Samsung</td>\n",
       "      <td>199.99</td>\n",
       "      <td>4</td>\n",
       "      <td>It works good but it goes slow sometimes but i...</td>\n",
       "      <td>0.0</td>\n",
       "      <td>it works good but it goes slow sometimes but i...</td>\n",
       "      <td>it works good but it goes slow sometimes but i...</td>\n",
       "      <td>it works good but it goes slow sometimes but i...</td>\n",
       "    </tr>\n",
       "    <tr>\n",
       "      <th>4</th>\n",
       "      <td>\"CLEAR CLEAN ESN\" Sprint EPIC 4G Galaxy SPH-D7...</td>\n",
       "      <td>Samsung</td>\n",
       "      <td>199.99</td>\n",
       "      <td>4</td>\n",
       "      <td>Great phone to replace my lost phone. The only...</td>\n",
       "      <td>0.0</td>\n",
       "      <td>great phone to replace my lost phone. the only...</td>\n",
       "      <td>great phone to replace my lost phone. the only...</td>\n",
       "      <td>great phone to replace my lost phone the only ...</td>\n",
       "    </tr>\n",
       "  </tbody>\n",
       "</table>\n",
       "</div>"
      ],
      "text/plain": [
       "                                        Product Name Brand Name   Price  \\\n",
       "0  \"CLEAR CLEAN ESN\" Sprint EPIC 4G Galaxy SPH-D7...    Samsung  199.99   \n",
       "1  \"CLEAR CLEAN ESN\" Sprint EPIC 4G Galaxy SPH-D7...    Samsung  199.99   \n",
       "2  \"CLEAR CLEAN ESN\" Sprint EPIC 4G Galaxy SPH-D7...    Samsung  199.99   \n",
       "3  \"CLEAR CLEAN ESN\" Sprint EPIC 4G Galaxy SPH-D7...    Samsung  199.99   \n",
       "4  \"CLEAR CLEAN ESN\" Sprint EPIC 4G Galaxy SPH-D7...    Samsung  199.99   \n",
       "\n",
       "   Rating                                            Reviews  Review Votes  \\\n",
       "0       5  I feel so LUCKY to have found this used (phone...           1.0   \n",
       "1       4  nice phone, nice up grade from my pantach revu...           0.0   \n",
       "2       5                                       Very pleased           0.0   \n",
       "3       4  It works good but it goes slow sometimes but i...           0.0   \n",
       "4       4  Great phone to replace my lost phone. The only...           0.0   \n",
       "\n",
       "                                          text_lower  \\\n",
       "0  i feel so lucky to have found this used (phone...   \n",
       "1  nice phone, nice up grade from my pantach revu...   \n",
       "2                                       very pleased   \n",
       "3  it works good but it goes slow sometimes but i...   \n",
       "4  great phone to replace my lost phone. the only...   \n",
       "\n",
       "                                            text_url  \\\n",
       "0  i feel so lucky to have found this used (phone...   \n",
       "1  nice phone, nice up grade from my pantach revu...   \n",
       "2                                       very pleased   \n",
       "3  it works good but it goes slow sometimes but i...   \n",
       "4  great phone to replace my lost phone. the only...   \n",
       "\n",
       "                                          text_punct  \n",
       "0  i feel so lucky to have found this used phone ...  \n",
       "1  nice phone nice up grade from my pantach revue...  \n",
       "2                                       very pleased  \n",
       "3  it works good but it goes slow sometimes but i...  \n",
       "4  great phone to replace my lost phone the only ...  "
      ]
     },
     "execution_count": 27,
     "metadata": {},
     "output_type": "execute_result"
    }
   ],
   "source": [
    "df.head()"
   ]
  },
  {
   "cell_type": "code",
   "execution_count": 28,
   "id": "a13372e6-acae-49a6-8022-179f8e557c76",
   "metadata": {},
   "outputs": [
    {
     "name": "stdout",
     "output_type": "stream",
     "text": [
      "Requirement already satisfied: nltk in c:\\users\\prngr\\appdata\\local\\programs\\python\\python310\\lib\\site-packages (3.7)\n",
      "Requirement already satisfied: tqdm in c:\\users\\prngr\\appdata\\local\\programs\\python\\python310\\lib\\site-packages (from nltk) (4.64.0)\n",
      "Requirement already satisfied: click in c:\\users\\prngr\\appdata\\local\\programs\\python\\python310\\lib\\site-packages (from nltk) (8.1.2)\n",
      "Requirement already satisfied: regex>=2021.8.3 in c:\\users\\prngr\\appdata\\local\\programs\\python\\python310\\lib\\site-packages (from nltk) (2022.7.25)\n",
      "Requirement already satisfied: joblib in c:\\users\\prngr\\appdata\\local\\programs\\python\\python310\\lib\\site-packages (from nltk) (1.2.0)\n",
      "Requirement already satisfied: colorama in c:\\users\\prngr\\appdata\\local\\programs\\python\\python310\\lib\\site-packages (from click->nltk) (0.4.4)\n",
      "Note: you may need to restart the kernel to use updated packages.\n",
      "CPU times: total: 46.9 ms\n",
      "Wall time: 2.25 s\n"
     ]
    },
    {
     "name": "stderr",
     "output_type": "stream",
     "text": [
      "WARNING: Ignoring invalid distribution -illow (c:\\users\\prngr\\appdata\\local\\programs\\python\\python310\\lib\\site-packages)\n",
      "WARNING: Ignoring invalid distribution - (c:\\users\\prngr\\appdata\\local\\programs\\python\\python310\\lib\\site-packages)\n",
      "WARNING: Ignoring invalid distribution -atplotlib (c:\\users\\prngr\\appdata\\local\\programs\\python\\python310\\lib\\site-packages)\n",
      "WARNING: Ignoring invalid distribution -illow (c:\\users\\prngr\\appdata\\local\\programs\\python\\python310\\lib\\site-packages)\n",
      "WARNING: Ignoring invalid distribution - (c:\\users\\prngr\\appdata\\local\\programs\\python\\python310\\lib\\site-packages)\n",
      "WARNING: Ignoring invalid distribution -atplotlib (c:\\users\\prngr\\appdata\\local\\programs\\python\\python310\\lib\\site-packages)\n",
      "WARNING: Ignoring invalid distribution -illow (c:\\users\\prngr\\appdata\\local\\programs\\python\\python310\\lib\\site-packages)\n",
      "WARNING: Ignoring invalid distribution - (c:\\users\\prngr\\appdata\\local\\programs\\python\\python310\\lib\\site-packages)\n",
      "WARNING: Ignoring invalid distribution -atplotlib (c:\\users\\prngr\\appdata\\local\\programs\\python\\python310\\lib\\site-packages)\n",
      "WARNING: Ignoring invalid distribution -illow (c:\\users\\prngr\\appdata\\local\\programs\\python\\python310\\lib\\site-packages)\n",
      "WARNING: Ignoring invalid distribution - (c:\\users\\prngr\\appdata\\local\\programs\\python\\python310\\lib\\site-packages)\n",
      "WARNING: Ignoring invalid distribution -atplotlib (c:\\users\\prngr\\appdata\\local\\programs\\python\\python310\\lib\\site-packages)\n",
      "WARNING: Ignoring invalid distribution -illow (c:\\users\\prngr\\appdata\\local\\programs\\python\\python310\\lib\\site-packages)\n",
      "WARNING: Ignoring invalid distribution - (c:\\users\\prngr\\appdata\\local\\programs\\python\\python310\\lib\\site-packages)\n",
      "WARNING: Ignoring invalid distribution -atplotlib (c:\\users\\prngr\\appdata\\local\\programs\\python\\python310\\lib\\site-packages)\n",
      "WARNING: Ignoring invalid distribution -illow (c:\\users\\prngr\\appdata\\local\\programs\\python\\python310\\lib\\site-packages)\n",
      "WARNING: Ignoring invalid distribution - (c:\\users\\prngr\\appdata\\local\\programs\\python\\python310\\lib\\site-packages)\n",
      "WARNING: Ignoring invalid distribution -atplotlib (c:\\users\\prngr\\appdata\\local\\programs\\python\\python310\\lib\\site-packages)\n",
      "\n",
      "[notice] A new release of pip available: 22.2.2 -> 22.3.1\n",
      "[notice] To update, run: C:\\Users\\prngr\\AppData\\Local\\Programs\\Python\\Python310\\python.exe -m pip install --upgrade pip\n"
     ]
    }
   ],
   "source": [
    "%%time\n",
    "pip install nltk"
   ]
  },
  {
   "cell_type": "code",
   "execution_count": 29,
   "id": "f9241764-b4c8-411b-97bd-b04d63dd78e8",
   "metadata": {},
   "outputs": [
    {
     "name": "stdout",
     "output_type": "stream",
     "text": [
      "showing info https://raw.githubusercontent.com/nltk/nltk_data/gh-pages/index.xml\n",
      "CPU times: total: 6.25 s\n",
      "Wall time: 13.3 s\n"
     ]
    },
    {
     "data": {
      "text/plain": [
       "True"
      ]
     },
     "execution_count": 29,
     "metadata": {},
     "output_type": "execute_result"
    }
   ],
   "source": [
    "%%time\n",
    "import nltk\n",
    "nltk.download()"
   ]
  },
  {
   "cell_type": "code",
   "execution_count": 30,
   "id": "f6766cc3-7c81-4cb0-bcb0-2de0d89e39f6",
   "metadata": {},
   "outputs": [
    {
     "name": "stdout",
     "output_type": "stream",
     "text": [
      "['i', 'me', 'my', 'myself', 'we', 'our', 'ours', 'ourselves', 'you', \"you're\", \"you've\", \"you'll\", \"you'd\", 'your', 'yours', 'yourself', 'yourselves', 'he', 'him', 'his', 'himself', 'she', \"she's\", 'her', 'hers', 'herself', 'it', \"it's\", 'its', 'itself', 'they', 'them', 'their', 'theirs', 'themselves', 'what', 'which', 'who', 'whom', 'this', 'that', \"that'll\", 'these', 'those', 'am', 'is', 'are', 'was', 'were', 'be', 'been', 'being', 'have', 'has', 'had', 'having', 'do', 'does', 'did', 'doing', 'a', 'an', 'the', 'and', 'but', 'if', 'or', 'because', 'as', 'until', 'while', 'of', 'at', 'by', 'for', 'with', 'about', 'against', 'between', 'into', 'through', 'during', 'before', 'after', 'above', 'below', 'to', 'from', 'up', 'down', 'in', 'out', 'on', 'off', 'over', 'under', 'again', 'further', 'then', 'once', 'here', 'there', 'when', 'where', 'why', 'how', 'all', 'any', 'both', 'each', 'few', 'more', 'most', 'other', 'some', 'such', 'no', 'nor', 'not', 'only', 'own', 'same', 'so', 'than', 'too', 'very', 's', 't', 'can', 'will', 'just', 'don', \"don't\", 'should', \"should've\", 'now', 'd', 'll', 'm', 'o', 're', 've', 'y', 'ain', 'aren', \"aren't\", 'couldn', \"couldn't\", 'didn', \"didn't\", 'doesn', \"doesn't\", 'hadn', \"hadn't\", 'hasn', \"hasn't\", 'haven', \"haven't\", 'isn', \"isn't\", 'ma', 'mightn', \"mightn't\", 'mustn', \"mustn't\", 'needn', \"needn't\", 'shan', \"shan't\", 'shouldn', \"shouldn't\", 'wasn', \"wasn't\", 'weren', \"weren't\", 'won', \"won't\", 'wouldn', \"wouldn't\"]\n"
     ]
    }
   ],
   "source": [
    "from nltk.corpus import stopwords\n",
    "stopwords = stopwords.words('english')\n",
    "print(stopwords)"
   ]
  },
  {
   "cell_type": "markdown",
   "id": "ddee42f0-3615-456b-aa70-683ea0328663",
   "metadata": {},
   "source": [
    "#                               TEXT PROCESSING - STEP 4:- Stop-word Removal"
   ]
  },
  {
   "cell_type": "code",
   "execution_count": 31,
   "id": "4f9d38c4-95a1-438c-9bad-090443c3e1f5",
   "metadata": {},
   "outputs": [
    {
     "name": "stdout",
     "output_type": "stream",
     "text": [
      "CPU times: total: 328 ms\n",
      "Wall time: 321 ms\n"
     ]
    }
   ],
   "source": [
    "%%time\n",
    "df['text_stopwords'] = df['text_punct'].apply(lambda x: ' '.join([word for word in x.split() if word not in (stopwords)]))"
   ]
  },
  {
   "cell_type": "code",
   "execution_count": 32,
   "id": "08b61981-4556-4b8c-841c-17ca31fc3562",
   "metadata": {},
   "outputs": [
    {
     "data": {
      "text/html": [
       "<div>\n",
       "<style scoped>\n",
       "    .dataframe tbody tr th:only-of-type {\n",
       "        vertical-align: middle;\n",
       "    }\n",
       "\n",
       "    .dataframe tbody tr th {\n",
       "        vertical-align: top;\n",
       "    }\n",
       "\n",
       "    .dataframe thead th {\n",
       "        text-align: right;\n",
       "    }\n",
       "</style>\n",
       "<table border=\"1\" class=\"dataframe\">\n",
       "  <thead>\n",
       "    <tr style=\"text-align: right;\">\n",
       "      <th></th>\n",
       "      <th>Product Name</th>\n",
       "      <th>Brand Name</th>\n",
       "      <th>Price</th>\n",
       "      <th>Rating</th>\n",
       "      <th>Reviews</th>\n",
       "      <th>Review Votes</th>\n",
       "      <th>text_lower</th>\n",
       "      <th>text_url</th>\n",
       "      <th>text_punct</th>\n",
       "      <th>text_stopwords</th>\n",
       "    </tr>\n",
       "  </thead>\n",
       "  <tbody>\n",
       "    <tr>\n",
       "      <th>0</th>\n",
       "      <td>\"CLEAR CLEAN ESN\" Sprint EPIC 4G Galaxy SPH-D7...</td>\n",
       "      <td>Samsung</td>\n",
       "      <td>199.99</td>\n",
       "      <td>5</td>\n",
       "      <td>I feel so LUCKY to have found this used (phone...</td>\n",
       "      <td>1.0</td>\n",
       "      <td>i feel so lucky to have found this used (phone...</td>\n",
       "      <td>i feel so lucky to have found this used (phone...</td>\n",
       "      <td>i feel so lucky to have found this used phone ...</td>\n",
       "      <td>feel lucky found used phone us used hard phone...</td>\n",
       "    </tr>\n",
       "    <tr>\n",
       "      <th>1</th>\n",
       "      <td>\"CLEAR CLEAN ESN\" Sprint EPIC 4G Galaxy SPH-D7...</td>\n",
       "      <td>Samsung</td>\n",
       "      <td>199.99</td>\n",
       "      <td>4</td>\n",
       "      <td>nice phone, nice up grade from my pantach revu...</td>\n",
       "      <td>0.0</td>\n",
       "      <td>nice phone, nice up grade from my pantach revu...</td>\n",
       "      <td>nice phone, nice up grade from my pantach revu...</td>\n",
       "      <td>nice phone nice up grade from my pantach revue...</td>\n",
       "      <td>nice phone nice grade pantach revue clean set ...</td>\n",
       "    </tr>\n",
       "    <tr>\n",
       "      <th>2</th>\n",
       "      <td>\"CLEAR CLEAN ESN\" Sprint EPIC 4G Galaxy SPH-D7...</td>\n",
       "      <td>Samsung</td>\n",
       "      <td>199.99</td>\n",
       "      <td>5</td>\n",
       "      <td>Very pleased</td>\n",
       "      <td>0.0</td>\n",
       "      <td>very pleased</td>\n",
       "      <td>very pleased</td>\n",
       "      <td>very pleased</td>\n",
       "      <td>pleased</td>\n",
       "    </tr>\n",
       "    <tr>\n",
       "      <th>3</th>\n",
       "      <td>\"CLEAR CLEAN ESN\" Sprint EPIC 4G Galaxy SPH-D7...</td>\n",
       "      <td>Samsung</td>\n",
       "      <td>199.99</td>\n",
       "      <td>4</td>\n",
       "      <td>It works good but it goes slow sometimes but i...</td>\n",
       "      <td>0.0</td>\n",
       "      <td>it works good but it goes slow sometimes but i...</td>\n",
       "      <td>it works good but it goes slow sometimes but i...</td>\n",
       "      <td>it works good but it goes slow sometimes but i...</td>\n",
       "      <td>works good goes slow sometimes good phone love</td>\n",
       "    </tr>\n",
       "    <tr>\n",
       "      <th>4</th>\n",
       "      <td>\"CLEAR CLEAN ESN\" Sprint EPIC 4G Galaxy SPH-D7...</td>\n",
       "      <td>Samsung</td>\n",
       "      <td>199.99</td>\n",
       "      <td>4</td>\n",
       "      <td>Great phone to replace my lost phone. The only...</td>\n",
       "      <td>0.0</td>\n",
       "      <td>great phone to replace my lost phone. the only...</td>\n",
       "      <td>great phone to replace my lost phone. the only...</td>\n",
       "      <td>great phone to replace my lost phone the only ...</td>\n",
       "      <td>great phone replace lost phone thing volume bu...</td>\n",
       "    </tr>\n",
       "  </tbody>\n",
       "</table>\n",
       "</div>"
      ],
      "text/plain": [
       "                                        Product Name Brand Name   Price  \\\n",
       "0  \"CLEAR CLEAN ESN\" Sprint EPIC 4G Galaxy SPH-D7...    Samsung  199.99   \n",
       "1  \"CLEAR CLEAN ESN\" Sprint EPIC 4G Galaxy SPH-D7...    Samsung  199.99   \n",
       "2  \"CLEAR CLEAN ESN\" Sprint EPIC 4G Galaxy SPH-D7...    Samsung  199.99   \n",
       "3  \"CLEAR CLEAN ESN\" Sprint EPIC 4G Galaxy SPH-D7...    Samsung  199.99   \n",
       "4  \"CLEAR CLEAN ESN\" Sprint EPIC 4G Galaxy SPH-D7...    Samsung  199.99   \n",
       "\n",
       "   Rating                                            Reviews  Review Votes  \\\n",
       "0       5  I feel so LUCKY to have found this used (phone...           1.0   \n",
       "1       4  nice phone, nice up grade from my pantach revu...           0.0   \n",
       "2       5                                       Very pleased           0.0   \n",
       "3       4  It works good but it goes slow sometimes but i...           0.0   \n",
       "4       4  Great phone to replace my lost phone. The only...           0.0   \n",
       "\n",
       "                                          text_lower  \\\n",
       "0  i feel so lucky to have found this used (phone...   \n",
       "1  nice phone, nice up grade from my pantach revu...   \n",
       "2                                       very pleased   \n",
       "3  it works good but it goes slow sometimes but i...   \n",
       "4  great phone to replace my lost phone. the only...   \n",
       "\n",
       "                                            text_url  \\\n",
       "0  i feel so lucky to have found this used (phone...   \n",
       "1  nice phone, nice up grade from my pantach revu...   \n",
       "2                                       very pleased   \n",
       "3  it works good but it goes slow sometimes but i...   \n",
       "4  great phone to replace my lost phone. the only...   \n",
       "\n",
       "                                          text_punct  \\\n",
       "0  i feel so lucky to have found this used phone ...   \n",
       "1  nice phone nice up grade from my pantach revue...   \n",
       "2                                       very pleased   \n",
       "3  it works good but it goes slow sometimes but i...   \n",
       "4  great phone to replace my lost phone the only ...   \n",
       "\n",
       "                                      text_stopwords  \n",
       "0  feel lucky found used phone us used hard phone...  \n",
       "1  nice phone nice grade pantach revue clean set ...  \n",
       "2                                            pleased  \n",
       "3     works good goes slow sometimes good phone love  \n",
       "4  great phone replace lost phone thing volume bu...  "
      ]
     },
     "execution_count": 32,
     "metadata": {},
     "output_type": "execute_result"
    }
   ],
   "source": [
    "df.head()"
   ]
  },
  {
   "cell_type": "code",
   "execution_count": 33,
   "id": "11bf5de4-527f-46d8-826f-3930b03db073",
   "metadata": {},
   "outputs": [
    {
     "name": "stdout",
     "output_type": "stream",
     "text": [
      "Requirement already satisfied: textblob in c:\\users\\prngr\\appdata\\local\\programs\\python\\python310\\lib\\site-packages (0.17.1)\n",
      "Requirement already satisfied: nltk>=3.1 in c:\\users\\prngr\\appdata\\local\\programs\\python\\python310\\lib\\site-packages (from textblob) (3.7)\n",
      "Requirement already satisfied: click in c:\\users\\prngr\\appdata\\local\\programs\\python\\python310\\lib\\site-packages (from nltk>=3.1->textblob) (8.1.2)\n",
      "Requirement already satisfied: tqdm in c:\\users\\prngr\\appdata\\local\\programs\\python\\python310\\lib\\site-packages (from nltk>=3.1->textblob) (4.64.0)\n",
      "Requirement already satisfied: regex>=2021.8.3 in c:\\users\\prngr\\appdata\\local\\programs\\python\\python310\\lib\\site-packages (from nltk>=3.1->textblob) (2022.7.25)\n",
      "Requirement already satisfied: joblib in c:\\users\\prngr\\appdata\\local\\programs\\python\\python310\\lib\\site-packages (from nltk>=3.1->textblob) (1.2.0)\n",
      "Requirement already satisfied: colorama in c:\\users\\prngr\\appdata\\local\\programs\\python\\python310\\lib\\site-packages (from click->nltk>=3.1->textblob) (0.4.4)\n",
      "Note: you may need to restart the kernel to use updated packages.\n",
      "CPU times: total: 31.2 ms\n",
      "Wall time: 2.33 s\n"
     ]
    },
    {
     "name": "stderr",
     "output_type": "stream",
     "text": [
      "WARNING: Ignoring invalid distribution -illow (c:\\users\\prngr\\appdata\\local\\programs\\python\\python310\\lib\\site-packages)\n",
      "WARNING: Ignoring invalid distribution - (c:\\users\\prngr\\appdata\\local\\programs\\python\\python310\\lib\\site-packages)\n",
      "WARNING: Ignoring invalid distribution -atplotlib (c:\\users\\prngr\\appdata\\local\\programs\\python\\python310\\lib\\site-packages)\n",
      "WARNING: Ignoring invalid distribution -illow (c:\\users\\prngr\\appdata\\local\\programs\\python\\python310\\lib\\site-packages)\n",
      "WARNING: Ignoring invalid distribution - (c:\\users\\prngr\\appdata\\local\\programs\\python\\python310\\lib\\site-packages)\n",
      "WARNING: Ignoring invalid distribution -atplotlib (c:\\users\\prngr\\appdata\\local\\programs\\python\\python310\\lib\\site-packages)\n",
      "WARNING: Ignoring invalid distribution -illow (c:\\users\\prngr\\appdata\\local\\programs\\python\\python310\\lib\\site-packages)\n",
      "WARNING: Ignoring invalid distribution - (c:\\users\\prngr\\appdata\\local\\programs\\python\\python310\\lib\\site-packages)\n",
      "WARNING: Ignoring invalid distribution -atplotlib (c:\\users\\prngr\\appdata\\local\\programs\\python\\python310\\lib\\site-packages)\n",
      "WARNING: Ignoring invalid distribution -illow (c:\\users\\prngr\\appdata\\local\\programs\\python\\python310\\lib\\site-packages)\n",
      "WARNING: Ignoring invalid distribution - (c:\\users\\prngr\\appdata\\local\\programs\\python\\python310\\lib\\site-packages)\n",
      "WARNING: Ignoring invalid distribution -atplotlib (c:\\users\\prngr\\appdata\\local\\programs\\python\\python310\\lib\\site-packages)\n",
      "WARNING: Ignoring invalid distribution -illow (c:\\users\\prngr\\appdata\\local\\programs\\python\\python310\\lib\\site-packages)\n",
      "WARNING: Ignoring invalid distribution - (c:\\users\\prngr\\appdata\\local\\programs\\python\\python310\\lib\\site-packages)\n",
      "WARNING: Ignoring invalid distribution -atplotlib (c:\\users\\prngr\\appdata\\local\\programs\\python\\python310\\lib\\site-packages)\n",
      "WARNING: Ignoring invalid distribution -illow (c:\\users\\prngr\\appdata\\local\\programs\\python\\python310\\lib\\site-packages)\n",
      "WARNING: Ignoring invalid distribution - (c:\\users\\prngr\\appdata\\local\\programs\\python\\python310\\lib\\site-packages)\n",
      "WARNING: Ignoring invalid distribution -atplotlib (c:\\users\\prngr\\appdata\\local\\programs\\python\\python310\\lib\\site-packages)\n",
      "\n",
      "[notice] A new release of pip available: 22.2.2 -> 22.3.1\n",
      "[notice] To update, run: C:\\Users\\prngr\\AppData\\Local\\Programs\\Python\\Python310\\python.exe -m pip install --upgrade pip\n"
     ]
    }
   ],
   "source": [
    "%%time\n",
    "pip install textblob"
   ]
  },
  {
   "cell_type": "code",
   "execution_count": 34,
   "id": "0ef5a434-d5cb-438d-88c3-5a5c4b9233fb",
   "metadata": {},
   "outputs": [],
   "source": [
    "from textblob import TextBlob"
   ]
  },
  {
   "cell_type": "markdown",
   "id": "8d8d043a-3da9-4f79-8a12-9cc09c9bf99d",
   "metadata": {},
   "source": [
    "#                          TEXT PROCESSING - STEP 5:- Spelling Correction"
   ]
  },
  {
   "cell_type": "code",
   "execution_count": 35,
   "id": "67c15566-4bda-49ba-b396-bae62dc0ec4c",
   "metadata": {},
   "outputs": [
    {
     "name": "stdout",
     "output_type": "stream",
     "text": [
      "CPU times: total: 36min 1s\n",
      "Wall time: 36min 3s\n"
     ]
    }
   ],
   "source": [
    "%%time\n",
    "#df['text_correct'] = df['text_stopwords']\n",
    "df['text_correct'] = df['text_stopwords'].apply(lambda x : str(TextBlob(x).correct()))                                                 "
   ]
  },
  {
   "cell_type": "code",
   "execution_count": 36,
   "id": "3bb42c7b-432e-4d2c-9dff-f94a42791bc0",
   "metadata": {},
   "outputs": [
    {
     "name": "stdout",
     "output_type": "stream",
     "text": [
      "Requirement already satisfied: demoji in c:\\users\\prngr\\appdata\\local\\programs\\python\\python310\\lib\\site-packages (1.1.0)\n",
      "Note: you may need to restart the kernel to use updated packages.\n",
      "CPU times: total: 15.6 ms\n",
      "Wall time: 2.24 s\n"
     ]
    },
    {
     "name": "stderr",
     "output_type": "stream",
     "text": [
      "WARNING: Ignoring invalid distribution -illow (c:\\users\\prngr\\appdata\\local\\programs\\python\\python310\\lib\\site-packages)\n",
      "WARNING: Ignoring invalid distribution - (c:\\users\\prngr\\appdata\\local\\programs\\python\\python310\\lib\\site-packages)\n",
      "WARNING: Ignoring invalid distribution -atplotlib (c:\\users\\prngr\\appdata\\local\\programs\\python\\python310\\lib\\site-packages)\n",
      "WARNING: Ignoring invalid distribution -illow (c:\\users\\prngr\\appdata\\local\\programs\\python\\python310\\lib\\site-packages)\n",
      "WARNING: Ignoring invalid distribution - (c:\\users\\prngr\\appdata\\local\\programs\\python\\python310\\lib\\site-packages)\n",
      "WARNING: Ignoring invalid distribution -atplotlib (c:\\users\\prngr\\appdata\\local\\programs\\python\\python310\\lib\\site-packages)\n",
      "WARNING: Ignoring invalid distribution -illow (c:\\users\\prngr\\appdata\\local\\programs\\python\\python310\\lib\\site-packages)\n",
      "WARNING: Ignoring invalid distribution - (c:\\users\\prngr\\appdata\\local\\programs\\python\\python310\\lib\\site-packages)\n",
      "WARNING: Ignoring invalid distribution -atplotlib (c:\\users\\prngr\\appdata\\local\\programs\\python\\python310\\lib\\site-packages)\n",
      "WARNING: Ignoring invalid distribution -illow (c:\\users\\prngr\\appdata\\local\\programs\\python\\python310\\lib\\site-packages)\n",
      "WARNING: Ignoring invalid distribution - (c:\\users\\prngr\\appdata\\local\\programs\\python\\python310\\lib\\site-packages)\n",
      "WARNING: Ignoring invalid distribution -atplotlib (c:\\users\\prngr\\appdata\\local\\programs\\python\\python310\\lib\\site-packages)\n",
      "WARNING: Ignoring invalid distribution -illow (c:\\users\\prngr\\appdata\\local\\programs\\python\\python310\\lib\\site-packages)\n",
      "WARNING: Ignoring invalid distribution - (c:\\users\\prngr\\appdata\\local\\programs\\python\\python310\\lib\\site-packages)\n",
      "WARNING: Ignoring invalid distribution -atplotlib (c:\\users\\prngr\\appdata\\local\\programs\\python\\python310\\lib\\site-packages)\n",
      "WARNING: Ignoring invalid distribution -illow (c:\\users\\prngr\\appdata\\local\\programs\\python\\python310\\lib\\site-packages)\n",
      "WARNING: Ignoring invalid distribution - (c:\\users\\prngr\\appdata\\local\\programs\\python\\python310\\lib\\site-packages)\n",
      "WARNING: Ignoring invalid distribution -atplotlib (c:\\users\\prngr\\appdata\\local\\programs\\python\\python310\\lib\\site-packages)\n",
      "\n",
      "[notice] A new release of pip available: 22.2.2 -> 22.3.1\n",
      "[notice] To update, run: C:\\Users\\prngr\\AppData\\Local\\Programs\\Python\\Python310\\python.exe -m pip install --upgrade pip\n"
     ]
    }
   ],
   "source": [
    "%%time\n",
    "pip install demoji"
   ]
  },
  {
   "cell_type": "code",
   "execution_count": 37,
   "id": "6541dc25-b3ac-43e5-a837-1d91035b25b6",
   "metadata": {},
   "outputs": [
    {
     "name": "stdout",
     "output_type": "stream",
     "text": [
      "CPU times: total: 15.6 ms\n",
      "Wall time: 6 ms\n"
     ]
    }
   ],
   "source": [
    "%%time\n",
    "import demoji\n",
    "demoji.download_codes()"
   ]
  },
  {
   "cell_type": "markdown",
   "id": "2a815e66-d0a8-4b62-af6a-5616c9414155",
   "metadata": {},
   "source": [
    "  #                             TEXT PROCESSING - STEP 6:- Converting Emoji and emoticons to words"
   ]
  },
  {
   "cell_type": "code",
   "execution_count": 38,
   "id": "c9f2c71d-94b2-4022-a0cd-d5d4f5d99ad9",
   "metadata": {},
   "outputs": [
    {
     "name": "stdout",
     "output_type": "stream",
     "text": [
      "CPU times: total: 0 ns\n",
      "Wall time: 5 ms\n"
     ]
    }
   ],
   "source": [
    "%%time\n",
    "def deEmojify(inputString):\n",
    "    return inputString.encode('ascii', 'ignore').decode('ascii')\n",
    "df[\"text_emoji\"] = df[\"text_correct\"].apply(lambda s: deEmojify(s))"
   ]
  },
  {
   "cell_type": "code",
   "execution_count": 39,
   "id": "b2b2dfa8-1a3a-4079-91a8-a4786ec1e6c7",
   "metadata": {},
   "outputs": [
    {
     "name": "stdout",
     "output_type": "stream",
     "text": [
      "Requirement already satisfied: bs4 in c:\\users\\prngr\\appdata\\local\\programs\\python\\python310\\lib\\site-packages (0.0.1)\n",
      "Requirement already satisfied: beautifulsoup4 in c:\\users\\prngr\\appdata\\local\\programs\\python\\python310\\lib\\site-packages (from bs4) (4.11.1)\n",
      "Requirement already satisfied: soupsieve>1.2 in c:\\users\\prngr\\appdata\\local\\programs\\python\\python310\\lib\\site-packages (from beautifulsoup4->bs4) (2.3.2.post1)\n",
      "Note: you may need to restart the kernel to use updated packages.\n",
      "CPU times: total: 15.6 ms\n",
      "Wall time: 2.13 s\n"
     ]
    },
    {
     "name": "stderr",
     "output_type": "stream",
     "text": [
      "WARNING: Ignoring invalid distribution -illow (c:\\users\\prngr\\appdata\\local\\programs\\python\\python310\\lib\\site-packages)\n",
      "WARNING: Ignoring invalid distribution - (c:\\users\\prngr\\appdata\\local\\programs\\python\\python310\\lib\\site-packages)\n",
      "WARNING: Ignoring invalid distribution -atplotlib (c:\\users\\prngr\\appdata\\local\\programs\\python\\python310\\lib\\site-packages)\n",
      "WARNING: Ignoring invalid distribution -illow (c:\\users\\prngr\\appdata\\local\\programs\\python\\python310\\lib\\site-packages)\n",
      "WARNING: Ignoring invalid distribution - (c:\\users\\prngr\\appdata\\local\\programs\\python\\python310\\lib\\site-packages)\n",
      "WARNING: Ignoring invalid distribution -atplotlib (c:\\users\\prngr\\appdata\\local\\programs\\python\\python310\\lib\\site-packages)\n",
      "WARNING: Ignoring invalid distribution -illow (c:\\users\\prngr\\appdata\\local\\programs\\python\\python310\\lib\\site-packages)\n",
      "WARNING: Ignoring invalid distribution - (c:\\users\\prngr\\appdata\\local\\programs\\python\\python310\\lib\\site-packages)\n",
      "WARNING: Ignoring invalid distribution -atplotlib (c:\\users\\prngr\\appdata\\local\\programs\\python\\python310\\lib\\site-packages)\n",
      "WARNING: Ignoring invalid distribution -illow (c:\\users\\prngr\\appdata\\local\\programs\\python\\python310\\lib\\site-packages)\n",
      "WARNING: Ignoring invalid distribution - (c:\\users\\prngr\\appdata\\local\\programs\\python\\python310\\lib\\site-packages)\n",
      "WARNING: Ignoring invalid distribution -atplotlib (c:\\users\\prngr\\appdata\\local\\programs\\python\\python310\\lib\\site-packages)\n",
      "WARNING: Ignoring invalid distribution -illow (c:\\users\\prngr\\appdata\\local\\programs\\python\\python310\\lib\\site-packages)\n",
      "WARNING: Ignoring invalid distribution - (c:\\users\\prngr\\appdata\\local\\programs\\python\\python310\\lib\\site-packages)\n",
      "WARNING: Ignoring invalid distribution -atplotlib (c:\\users\\prngr\\appdata\\local\\programs\\python\\python310\\lib\\site-packages)\n",
      "WARNING: Ignoring invalid distribution -illow (c:\\users\\prngr\\appdata\\local\\programs\\python\\python310\\lib\\site-packages)\n",
      "WARNING: Ignoring invalid distribution - (c:\\users\\prngr\\appdata\\local\\programs\\python\\python310\\lib\\site-packages)\n",
      "WARNING: Ignoring invalid distribution -atplotlib (c:\\users\\prngr\\appdata\\local\\programs\\python\\python310\\lib\\site-packages)\n",
      "\n",
      "[notice] A new release of pip available: 22.2.2 -> 22.3.1\n",
      "[notice] To update, run: C:\\Users\\prngr\\AppData\\Local\\Programs\\Python\\Python310\\python.exe -m pip install --upgrade pip\n"
     ]
    }
   ],
   "source": [
    "%%time\n",
    "pip install bs4"
   ]
  },
  {
   "cell_type": "code",
   "execution_count": 40,
   "id": "a9da2b1d-e905-4b95-9e80-26fc0aba3179",
   "metadata": {},
   "outputs": [
    {
     "name": "stdout",
     "output_type": "stream",
     "text": [
      "Requirement already satisfied: requests in c:\\users\\prngr\\appdata\\local\\programs\\python\\python310\\lib\\site-packages (2.27.1)\n",
      "Requirement already satisfied: charset-normalizer~=2.0.0 in c:\\users\\prngr\\appdata\\local\\programs\\python\\python310\\lib\\site-packages (from requests) (2.0.10)\n",
      "Requirement already satisfied: urllib3<1.27,>=1.21.1 in c:\\users\\prngr\\appdata\\local\\programs\\python\\python310\\lib\\site-packages (from requests) (1.26.8)\n",
      "Requirement already satisfied: certifi>=2017.4.17 in c:\\users\\prngr\\appdata\\local\\programs\\python\\python310\\lib\\site-packages (from requests) (2021.10.8)\n",
      "Requirement already satisfied: idna<4,>=2.5 in c:\\users\\prngr\\appdata\\local\\programs\\python\\python310\\lib\\site-packages (from requests) (3.3)\n",
      "Note: you may need to restart the kernel to use updated packages.\n",
      "CPU times: total: 15.6 ms\n",
      "Wall time: 2.14 s\n"
     ]
    },
    {
     "name": "stderr",
     "output_type": "stream",
     "text": [
      "WARNING: Ignoring invalid distribution -illow (c:\\users\\prngr\\appdata\\local\\programs\\python\\python310\\lib\\site-packages)\n",
      "WARNING: Ignoring invalid distribution - (c:\\users\\prngr\\appdata\\local\\programs\\python\\python310\\lib\\site-packages)\n",
      "WARNING: Ignoring invalid distribution -atplotlib (c:\\users\\prngr\\appdata\\local\\programs\\python\\python310\\lib\\site-packages)\n",
      "WARNING: Ignoring invalid distribution -illow (c:\\users\\prngr\\appdata\\local\\programs\\python\\python310\\lib\\site-packages)\n",
      "WARNING: Ignoring invalid distribution - (c:\\users\\prngr\\appdata\\local\\programs\\python\\python310\\lib\\site-packages)\n",
      "WARNING: Ignoring invalid distribution -atplotlib (c:\\users\\prngr\\appdata\\local\\programs\\python\\python310\\lib\\site-packages)\n",
      "WARNING: Ignoring invalid distribution -illow (c:\\users\\prngr\\appdata\\local\\programs\\python\\python310\\lib\\site-packages)\n",
      "WARNING: Ignoring invalid distribution - (c:\\users\\prngr\\appdata\\local\\programs\\python\\python310\\lib\\site-packages)\n",
      "WARNING: Ignoring invalid distribution -atplotlib (c:\\users\\prngr\\appdata\\local\\programs\\python\\python310\\lib\\site-packages)\n",
      "WARNING: Ignoring invalid distribution -illow (c:\\users\\prngr\\appdata\\local\\programs\\python\\python310\\lib\\site-packages)\n",
      "WARNING: Ignoring invalid distribution - (c:\\users\\prngr\\appdata\\local\\programs\\python\\python310\\lib\\site-packages)\n",
      "WARNING: Ignoring invalid distribution -atplotlib (c:\\users\\prngr\\appdata\\local\\programs\\python\\python310\\lib\\site-packages)\n",
      "WARNING: Ignoring invalid distribution -illow (c:\\users\\prngr\\appdata\\local\\programs\\python\\python310\\lib\\site-packages)\n",
      "WARNING: Ignoring invalid distribution - (c:\\users\\prngr\\appdata\\local\\programs\\python\\python310\\lib\\site-packages)\n",
      "WARNING: Ignoring invalid distribution -atplotlib (c:\\users\\prngr\\appdata\\local\\programs\\python\\python310\\lib\\site-packages)\n",
      "WARNING: Ignoring invalid distribution -illow (c:\\users\\prngr\\appdata\\local\\programs\\python\\python310\\lib\\site-packages)\n",
      "WARNING: Ignoring invalid distribution - (c:\\users\\prngr\\appdata\\local\\programs\\python\\python310\\lib\\site-packages)\n",
      "WARNING: Ignoring invalid distribution -atplotlib (c:\\users\\prngr\\appdata\\local\\programs\\python\\python310\\lib\\site-packages)\n",
      "\n",
      "[notice] A new release of pip available: 22.2.2 -> 22.3.1\n",
      "[notice] To update, run: C:\\Users\\prngr\\AppData\\Local\\Programs\\Python\\Python310\\python.exe -m pip install --upgrade pip\n"
     ]
    }
   ],
   "source": [
    "%%time\n",
    "pip install requests"
   ]
  },
  {
   "cell_type": "markdown",
   "id": "582829cb-6bd4-4ce0-b1ed-fa2c4559c368",
   "metadata": {},
   "source": [
    "#                           TEXT PROCESSING - STEP 7:- Removal of HTML Tags"
   ]
  },
  {
   "cell_type": "code",
   "execution_count": 41,
   "id": "8d70ac33-fff5-4b00-b8ce-c769665dcafb",
   "metadata": {},
   "outputs": [],
   "source": [
    "from bs4 import BeautifulSoup\n",
    "def remove_tags(text):\n",
    "  UPDATED_TEXT = BeautifulSoup(text, \"html.parser\")\n",
    "  for data in UPDATED_TEXT(['style', 'script']):\n",
    "    data.decompose()\n",
    "  return ' '.join(UPDATED_TEXT.stripped_strings)"
   ]
  },
  {
   "cell_type": "code",
   "execution_count": 42,
   "id": "dd03adb8-c1ed-4c94-84b3-02a2ba179814",
   "metadata": {},
   "outputs": [
    {
     "name": "stdout",
     "output_type": "stream",
     "text": [
      "CPU times: total: 406 ms\n",
      "Wall time: 406 ms\n"
     ]
    }
   ],
   "source": [
    "%%time\n",
    "df[\"text_removetag\"] = df[\"text_emoji\"].apply(remove_tags)"
   ]
  },
  {
   "cell_type": "code",
   "execution_count": 43,
   "id": "68a3df92-cad1-4ebf-9982-01e77085d435",
   "metadata": {},
   "outputs": [
    {
     "name": "stdout",
     "output_type": "stream",
     "text": [
      "CPU times: total: 0 ns\n",
      "Wall time: 0 ns\n"
     ]
    },
    {
     "data": {
      "text/html": [
       "<div>\n",
       "<style scoped>\n",
       "    .dataframe tbody tr th:only-of-type {\n",
       "        vertical-align: middle;\n",
       "    }\n",
       "\n",
       "    .dataframe tbody tr th {\n",
       "        vertical-align: top;\n",
       "    }\n",
       "\n",
       "    .dataframe thead th {\n",
       "        text-align: right;\n",
       "    }\n",
       "</style>\n",
       "<table border=\"1\" class=\"dataframe\">\n",
       "  <thead>\n",
       "    <tr style=\"text-align: right;\">\n",
       "      <th></th>\n",
       "      <th>Product Name</th>\n",
       "      <th>Brand Name</th>\n",
       "      <th>Price</th>\n",
       "      <th>Rating</th>\n",
       "      <th>Reviews</th>\n",
       "      <th>Review Votes</th>\n",
       "      <th>text_lower</th>\n",
       "      <th>text_url</th>\n",
       "      <th>text_punct</th>\n",
       "      <th>text_stopwords</th>\n",
       "      <th>text_correct</th>\n",
       "      <th>text_emoji</th>\n",
       "      <th>text_removetag</th>\n",
       "    </tr>\n",
       "  </thead>\n",
       "  <tbody>\n",
       "    <tr>\n",
       "      <th>0</th>\n",
       "      <td>\"CLEAR CLEAN ESN\" Sprint EPIC 4G Galaxy SPH-D7...</td>\n",
       "      <td>Samsung</td>\n",
       "      <td>199.99</td>\n",
       "      <td>5</td>\n",
       "      <td>I feel so LUCKY to have found this used (phone...</td>\n",
       "      <td>1.0</td>\n",
       "      <td>i feel so lucky to have found this used (phone...</td>\n",
       "      <td>i feel so lucky to have found this used (phone...</td>\n",
       "      <td>i feel so lucky to have found this used phone ...</td>\n",
       "      <td>feel lucky found used phone us used hard phone...</td>\n",
       "      <td>feel lucky found used phone us used hard phone...</td>\n",
       "      <td>feel lucky found used phone us used hard phone...</td>\n",
       "      <td>feel lucky found used phone us used hard phone...</td>\n",
       "    </tr>\n",
       "    <tr>\n",
       "      <th>1</th>\n",
       "      <td>\"CLEAR CLEAN ESN\" Sprint EPIC 4G Galaxy SPH-D7...</td>\n",
       "      <td>Samsung</td>\n",
       "      <td>199.99</td>\n",
       "      <td>4</td>\n",
       "      <td>nice phone, nice up grade from my pantach revu...</td>\n",
       "      <td>0.0</td>\n",
       "      <td>nice phone, nice up grade from my pantach revu...</td>\n",
       "      <td>nice phone, nice up grade from my pantach revu...</td>\n",
       "      <td>nice phone nice up grade from my pantach revue...</td>\n",
       "      <td>nice phone nice grade pantach revue clean set ...</td>\n",
       "      <td>nice phone nice grade patch review clean set e...</td>\n",
       "      <td>nice phone nice grade patch review clean set e...</td>\n",
       "      <td>nice phone nice grade patch review clean set e...</td>\n",
       "    </tr>\n",
       "    <tr>\n",
       "      <th>2</th>\n",
       "      <td>\"CLEAR CLEAN ESN\" Sprint EPIC 4G Galaxy SPH-D7...</td>\n",
       "      <td>Samsung</td>\n",
       "      <td>199.99</td>\n",
       "      <td>5</td>\n",
       "      <td>Very pleased</td>\n",
       "      <td>0.0</td>\n",
       "      <td>very pleased</td>\n",
       "      <td>very pleased</td>\n",
       "      <td>very pleased</td>\n",
       "      <td>pleased</td>\n",
       "      <td>pleased</td>\n",
       "      <td>pleased</td>\n",
       "      <td>pleased</td>\n",
       "    </tr>\n",
       "    <tr>\n",
       "      <th>3</th>\n",
       "      <td>\"CLEAR CLEAN ESN\" Sprint EPIC 4G Galaxy SPH-D7...</td>\n",
       "      <td>Samsung</td>\n",
       "      <td>199.99</td>\n",
       "      <td>4</td>\n",
       "      <td>It works good but it goes slow sometimes but i...</td>\n",
       "      <td>0.0</td>\n",
       "      <td>it works good but it goes slow sometimes but i...</td>\n",
       "      <td>it works good but it goes slow sometimes but i...</td>\n",
       "      <td>it works good but it goes slow sometimes but i...</td>\n",
       "      <td>works good goes slow sometimes good phone love</td>\n",
       "      <td>works good goes slow sometimes good phone love</td>\n",
       "      <td>works good goes slow sometimes good phone love</td>\n",
       "      <td>works good goes slow sometimes good phone love</td>\n",
       "    </tr>\n",
       "    <tr>\n",
       "      <th>4</th>\n",
       "      <td>\"CLEAR CLEAN ESN\" Sprint EPIC 4G Galaxy SPH-D7...</td>\n",
       "      <td>Samsung</td>\n",
       "      <td>199.99</td>\n",
       "      <td>4</td>\n",
       "      <td>Great phone to replace my lost phone. The only...</td>\n",
       "      <td>0.0</td>\n",
       "      <td>great phone to replace my lost phone. the only...</td>\n",
       "      <td>great phone to replace my lost phone. the only...</td>\n",
       "      <td>great phone to replace my lost phone the only ...</td>\n",
       "      <td>great phone replace lost phone thing volume bu...</td>\n",
       "      <td>great phone replace lost phone thing volume bu...</td>\n",
       "      <td>great phone replace lost phone thing volume bu...</td>\n",
       "      <td>great phone replace lost phone thing volume bu...</td>\n",
       "    </tr>\n",
       "  </tbody>\n",
       "</table>\n",
       "</div>"
      ],
      "text/plain": [
       "                                        Product Name Brand Name   Price  \\\n",
       "0  \"CLEAR CLEAN ESN\" Sprint EPIC 4G Galaxy SPH-D7...    Samsung  199.99   \n",
       "1  \"CLEAR CLEAN ESN\" Sprint EPIC 4G Galaxy SPH-D7...    Samsung  199.99   \n",
       "2  \"CLEAR CLEAN ESN\" Sprint EPIC 4G Galaxy SPH-D7...    Samsung  199.99   \n",
       "3  \"CLEAR CLEAN ESN\" Sprint EPIC 4G Galaxy SPH-D7...    Samsung  199.99   \n",
       "4  \"CLEAR CLEAN ESN\" Sprint EPIC 4G Galaxy SPH-D7...    Samsung  199.99   \n",
       "\n",
       "   Rating                                            Reviews  Review Votes  \\\n",
       "0       5  I feel so LUCKY to have found this used (phone...           1.0   \n",
       "1       4  nice phone, nice up grade from my pantach revu...           0.0   \n",
       "2       5                                       Very pleased           0.0   \n",
       "3       4  It works good but it goes slow sometimes but i...           0.0   \n",
       "4       4  Great phone to replace my lost phone. The only...           0.0   \n",
       "\n",
       "                                          text_lower  \\\n",
       "0  i feel so lucky to have found this used (phone...   \n",
       "1  nice phone, nice up grade from my pantach revu...   \n",
       "2                                       very pleased   \n",
       "3  it works good but it goes slow sometimes but i...   \n",
       "4  great phone to replace my lost phone. the only...   \n",
       "\n",
       "                                            text_url  \\\n",
       "0  i feel so lucky to have found this used (phone...   \n",
       "1  nice phone, nice up grade from my pantach revu...   \n",
       "2                                       very pleased   \n",
       "3  it works good but it goes slow sometimes but i...   \n",
       "4  great phone to replace my lost phone. the only...   \n",
       "\n",
       "                                          text_punct  \\\n",
       "0  i feel so lucky to have found this used phone ...   \n",
       "1  nice phone nice up grade from my pantach revue...   \n",
       "2                                       very pleased   \n",
       "3  it works good but it goes slow sometimes but i...   \n",
       "4  great phone to replace my lost phone the only ...   \n",
       "\n",
       "                                      text_stopwords  \\\n",
       "0  feel lucky found used phone us used hard phone...   \n",
       "1  nice phone nice grade pantach revue clean set ...   \n",
       "2                                            pleased   \n",
       "3     works good goes slow sometimes good phone love   \n",
       "4  great phone replace lost phone thing volume bu...   \n",
       "\n",
       "                                        text_correct  \\\n",
       "0  feel lucky found used phone us used hard phone...   \n",
       "1  nice phone nice grade patch review clean set e...   \n",
       "2                                            pleased   \n",
       "3     works good goes slow sometimes good phone love   \n",
       "4  great phone replace lost phone thing volume bu...   \n",
       "\n",
       "                                          text_emoji  \\\n",
       "0  feel lucky found used phone us used hard phone...   \n",
       "1  nice phone nice grade patch review clean set e...   \n",
       "2                                            pleased   \n",
       "3     works good goes slow sometimes good phone love   \n",
       "4  great phone replace lost phone thing volume bu...   \n",
       "\n",
       "                                      text_removetag  \n",
       "0  feel lucky found used phone us used hard phone...  \n",
       "1  nice phone nice grade patch review clean set e...  \n",
       "2                                            pleased  \n",
       "3     works good goes slow sometimes good phone love  \n",
       "4  great phone replace lost phone thing volume bu...  "
      ]
     },
     "execution_count": 43,
     "metadata": {},
     "output_type": "execute_result"
    }
   ],
   "source": [
    "%%time\n",
    "df.head()"
   ]
  },
  {
   "cell_type": "code",
   "execution_count": 44,
   "id": "d2ff4a80-219b-4d58-a02d-6f3fe1ecfd35",
   "metadata": {},
   "outputs": [
    {
     "name": "stderr",
     "output_type": "stream",
     "text": [
      "[nltk_data] Downloading package omw-1.4 to C:\\nltk_data...\n",
      "[nltk_data]   Package omw-1.4 is already up-to-date!\n",
      "[nltk_data] Downloading package punkt to C:\\nltk_data...\n",
      "[nltk_data]   Package punkt is already up-to-date!\n",
      "[nltk_data] Downloading package wordnet to C:\\nltk_data...\n",
      "[nltk_data]   Package wordnet is already up-to-date!\n"
     ]
    },
    {
     "data": {
      "text/plain": [
       "True"
      ]
     },
     "execution_count": 44,
     "metadata": {},
     "output_type": "execute_result"
    }
   ],
   "source": [
    "import nltk\n",
    "nltk.download('omw-1.4')\n",
    "nltk.download('punkt')\n",
    "nltk.download('wordnet')"
   ]
  },
  {
   "cell_type": "code",
   "execution_count": 45,
   "id": "dacf28e0-6d2b-4866-9d3e-02ce6f10a233",
   "metadata": {},
   "outputs": [],
   "source": [
    "from nltk.stem import WordNetLemmatizer\n",
    "wnl = WordNetLemmatizer()"
   ]
  },
  {
   "cell_type": "markdown",
   "id": "4bb71916-f81e-4012-a81d-d1383ed3a309",
   "metadata": {},
   "source": [
    " #                               TEXT PROCESSING - STEP 8:- Lemmatization"
   ]
  },
  {
   "cell_type": "code",
   "execution_count": 46,
   "id": "d5c95baf-b799-4785-88c2-a3da56255717",
   "metadata": {},
   "outputs": [],
   "source": [
    "def lemmatized(string):\n",
    "  # Converting String into tokens\n",
    "  list2 = nltk.word_tokenize(string)\n",
    "  #print(list2) \n",
    "  lemmatized_string = ' '.join([wnl.lemmatize(words) for words in list2])\n",
    "  return lemmatized_string"
   ]
  },
  {
   "cell_type": "code",
   "execution_count": 47,
   "id": "38636f2d-24d3-4216-8650-4b7d17b5bf6d",
   "metadata": {},
   "outputs": [
    {
     "name": "stdout",
     "output_type": "stream",
     "text": [
      "CPU times: total: 2.09 s\n",
      "Wall time: 2.09 s\n"
     ]
    }
   ],
   "source": [
    "%%time\n",
    "df[\"text_lemmatized\"] = df[\"text_removetag\"].apply(lemmatized)"
   ]
  },
  {
   "cell_type": "code",
   "execution_count": 48,
   "id": "b0962c31-0deb-4126-b627-bec4c4c770b2",
   "metadata": {},
   "outputs": [],
   "source": [
    "filename = 'Text_Processed_Amazon_Data.csv'\n",
    "df.to_csv(filename)"
   ]
  },
  {
   "cell_type": "code",
   "execution_count": 49,
   "id": "8a126cbc-f41d-47f5-a548-89ba34f0ceaa",
   "metadata": {},
   "outputs": [
    {
     "data": {
      "text/html": [
       "<div>\n",
       "<style scoped>\n",
       "    .dataframe tbody tr th:only-of-type {\n",
       "        vertical-align: middle;\n",
       "    }\n",
       "\n",
       "    .dataframe tbody tr th {\n",
       "        vertical-align: top;\n",
       "    }\n",
       "\n",
       "    .dataframe thead th {\n",
       "        text-align: right;\n",
       "    }\n",
       "</style>\n",
       "<table border=\"1\" class=\"dataframe\">\n",
       "  <thead>\n",
       "    <tr style=\"text-align: right;\">\n",
       "      <th></th>\n",
       "      <th>Product Name</th>\n",
       "      <th>Brand Name</th>\n",
       "      <th>Price</th>\n",
       "      <th>Rating</th>\n",
       "      <th>Reviews</th>\n",
       "      <th>Review Votes</th>\n",
       "      <th>text_lower</th>\n",
       "      <th>text_url</th>\n",
       "      <th>text_punct</th>\n",
       "      <th>text_stopwords</th>\n",
       "      <th>text_correct</th>\n",
       "      <th>text_emoji</th>\n",
       "      <th>text_removetag</th>\n",
       "      <th>text_lemmatized</th>\n",
       "    </tr>\n",
       "  </thead>\n",
       "  <tbody>\n",
       "    <tr>\n",
       "      <th>0</th>\n",
       "      <td>\"CLEAR CLEAN ESN\" Sprint EPIC 4G Galaxy SPH-D7...</td>\n",
       "      <td>Samsung</td>\n",
       "      <td>199.99</td>\n",
       "      <td>5</td>\n",
       "      <td>I feel so LUCKY to have found this used (phone...</td>\n",
       "      <td>1.0</td>\n",
       "      <td>i feel so lucky to have found this used (phone...</td>\n",
       "      <td>i feel so lucky to have found this used (phone...</td>\n",
       "      <td>i feel so lucky to have found this used phone ...</td>\n",
       "      <td>feel lucky found used phone us used hard phone...</td>\n",
       "      <td>feel lucky found used phone us used hard phone...</td>\n",
       "      <td>feel lucky found used phone us used hard phone...</td>\n",
       "      <td>feel lucky found used phone us used hard phone...</td>\n",
       "      <td>feel lucky found used phone u used hard phone ...</td>\n",
       "    </tr>\n",
       "    <tr>\n",
       "      <th>1</th>\n",
       "      <td>\"CLEAR CLEAN ESN\" Sprint EPIC 4G Galaxy SPH-D7...</td>\n",
       "      <td>Samsung</td>\n",
       "      <td>199.99</td>\n",
       "      <td>4</td>\n",
       "      <td>nice phone, nice up grade from my pantach revu...</td>\n",
       "      <td>0.0</td>\n",
       "      <td>nice phone, nice up grade from my pantach revu...</td>\n",
       "      <td>nice phone, nice up grade from my pantach revu...</td>\n",
       "      <td>nice phone nice up grade from my pantach revue...</td>\n",
       "      <td>nice phone nice grade pantach revue clean set ...</td>\n",
       "      <td>nice phone nice grade patch review clean set e...</td>\n",
       "      <td>nice phone nice grade patch review clean set e...</td>\n",
       "      <td>nice phone nice grade patch review clean set e...</td>\n",
       "      <td>nice phone nice grade patch review clean set e...</td>\n",
       "    </tr>\n",
       "    <tr>\n",
       "      <th>2</th>\n",
       "      <td>\"CLEAR CLEAN ESN\" Sprint EPIC 4G Galaxy SPH-D7...</td>\n",
       "      <td>Samsung</td>\n",
       "      <td>199.99</td>\n",
       "      <td>5</td>\n",
       "      <td>Very pleased</td>\n",
       "      <td>0.0</td>\n",
       "      <td>very pleased</td>\n",
       "      <td>very pleased</td>\n",
       "      <td>very pleased</td>\n",
       "      <td>pleased</td>\n",
       "      <td>pleased</td>\n",
       "      <td>pleased</td>\n",
       "      <td>pleased</td>\n",
       "      <td>pleased</td>\n",
       "    </tr>\n",
       "    <tr>\n",
       "      <th>3</th>\n",
       "      <td>\"CLEAR CLEAN ESN\" Sprint EPIC 4G Galaxy SPH-D7...</td>\n",
       "      <td>Samsung</td>\n",
       "      <td>199.99</td>\n",
       "      <td>4</td>\n",
       "      <td>It works good but it goes slow sometimes but i...</td>\n",
       "      <td>0.0</td>\n",
       "      <td>it works good but it goes slow sometimes but i...</td>\n",
       "      <td>it works good but it goes slow sometimes but i...</td>\n",
       "      <td>it works good but it goes slow sometimes but i...</td>\n",
       "      <td>works good goes slow sometimes good phone love</td>\n",
       "      <td>works good goes slow sometimes good phone love</td>\n",
       "      <td>works good goes slow sometimes good phone love</td>\n",
       "      <td>works good goes slow sometimes good phone love</td>\n",
       "      <td>work good go slow sometimes good phone love</td>\n",
       "    </tr>\n",
       "    <tr>\n",
       "      <th>4</th>\n",
       "      <td>\"CLEAR CLEAN ESN\" Sprint EPIC 4G Galaxy SPH-D7...</td>\n",
       "      <td>Samsung</td>\n",
       "      <td>199.99</td>\n",
       "      <td>4</td>\n",
       "      <td>Great phone to replace my lost phone. The only...</td>\n",
       "      <td>0.0</td>\n",
       "      <td>great phone to replace my lost phone. the only...</td>\n",
       "      <td>great phone to replace my lost phone. the only...</td>\n",
       "      <td>great phone to replace my lost phone the only ...</td>\n",
       "      <td>great phone replace lost phone thing volume bu...</td>\n",
       "      <td>great phone replace lost phone thing volume bu...</td>\n",
       "      <td>great phone replace lost phone thing volume bu...</td>\n",
       "      <td>great phone replace lost phone thing volume bu...</td>\n",
       "      <td>great phone replace lost phone thing volume bu...</td>\n",
       "    </tr>\n",
       "  </tbody>\n",
       "</table>\n",
       "</div>"
      ],
      "text/plain": [
       "                                        Product Name Brand Name   Price  \\\n",
       "0  \"CLEAR CLEAN ESN\" Sprint EPIC 4G Galaxy SPH-D7...    Samsung  199.99   \n",
       "1  \"CLEAR CLEAN ESN\" Sprint EPIC 4G Galaxy SPH-D7...    Samsung  199.99   \n",
       "2  \"CLEAR CLEAN ESN\" Sprint EPIC 4G Galaxy SPH-D7...    Samsung  199.99   \n",
       "3  \"CLEAR CLEAN ESN\" Sprint EPIC 4G Galaxy SPH-D7...    Samsung  199.99   \n",
       "4  \"CLEAR CLEAN ESN\" Sprint EPIC 4G Galaxy SPH-D7...    Samsung  199.99   \n",
       "\n",
       "   Rating                                            Reviews  Review Votes  \\\n",
       "0       5  I feel so LUCKY to have found this used (phone...           1.0   \n",
       "1       4  nice phone, nice up grade from my pantach revu...           0.0   \n",
       "2       5                                       Very pleased           0.0   \n",
       "3       4  It works good but it goes slow sometimes but i...           0.0   \n",
       "4       4  Great phone to replace my lost phone. The only...           0.0   \n",
       "\n",
       "                                          text_lower  \\\n",
       "0  i feel so lucky to have found this used (phone...   \n",
       "1  nice phone, nice up grade from my pantach revu...   \n",
       "2                                       very pleased   \n",
       "3  it works good but it goes slow sometimes but i...   \n",
       "4  great phone to replace my lost phone. the only...   \n",
       "\n",
       "                                            text_url  \\\n",
       "0  i feel so lucky to have found this used (phone...   \n",
       "1  nice phone, nice up grade from my pantach revu...   \n",
       "2                                       very pleased   \n",
       "3  it works good but it goes slow sometimes but i...   \n",
       "4  great phone to replace my lost phone. the only...   \n",
       "\n",
       "                                          text_punct  \\\n",
       "0  i feel so lucky to have found this used phone ...   \n",
       "1  nice phone nice up grade from my pantach revue...   \n",
       "2                                       very pleased   \n",
       "3  it works good but it goes slow sometimes but i...   \n",
       "4  great phone to replace my lost phone the only ...   \n",
       "\n",
       "                                      text_stopwords  \\\n",
       "0  feel lucky found used phone us used hard phone...   \n",
       "1  nice phone nice grade pantach revue clean set ...   \n",
       "2                                            pleased   \n",
       "3     works good goes slow sometimes good phone love   \n",
       "4  great phone replace lost phone thing volume bu...   \n",
       "\n",
       "                                        text_correct  \\\n",
       "0  feel lucky found used phone us used hard phone...   \n",
       "1  nice phone nice grade patch review clean set e...   \n",
       "2                                            pleased   \n",
       "3     works good goes slow sometimes good phone love   \n",
       "4  great phone replace lost phone thing volume bu...   \n",
       "\n",
       "                                          text_emoji  \\\n",
       "0  feel lucky found used phone us used hard phone...   \n",
       "1  nice phone nice grade patch review clean set e...   \n",
       "2                                            pleased   \n",
       "3     works good goes slow sometimes good phone love   \n",
       "4  great phone replace lost phone thing volume bu...   \n",
       "\n",
       "                                      text_removetag  \\\n",
       "0  feel lucky found used phone us used hard phone...   \n",
       "1  nice phone nice grade patch review clean set e...   \n",
       "2                                            pleased   \n",
       "3     works good goes slow sometimes good phone love   \n",
       "4  great phone replace lost phone thing volume bu...   \n",
       "\n",
       "                                     text_lemmatized  \n",
       "0  feel lucky found used phone u used hard phone ...  \n",
       "1  nice phone nice grade patch review clean set e...  \n",
       "2                                            pleased  \n",
       "3        work good go slow sometimes good phone love  \n",
       "4  great phone replace lost phone thing volume bu...  "
      ]
     },
     "execution_count": 49,
     "metadata": {},
     "output_type": "execute_result"
    }
   ],
   "source": [
    "df.head()"
   ]
  },
  {
   "cell_type": "markdown",
   "id": "fb9a4c74-b987-4fba-b080-37ee98aa2bb7",
   "metadata": {},
   "source": [
    " #                               Sentimental Ploarity score "
   ]
  },
  {
   "cell_type": "code",
   "execution_count": 50,
   "id": "d4ecd8ba-040c-44dd-96f9-abca49b13282",
   "metadata": {},
   "outputs": [],
   "source": [
    "def sentiment_p(text):\n",
    "    sentiment_score = TextBlob(text).sentiment.polarity\n",
    "    return sentiment_score"
   ]
  },
  {
   "cell_type": "markdown",
   "id": "335b95af-62fb-4328-911b-11d1188b8af5",
   "metadata": {},
   "source": [
    "  #                              Sentimental Subjectivity score "
   ]
  },
  {
   "cell_type": "code",
   "execution_count": 51,
   "id": "4004d5ae-4eb8-4c1c-80cd-67403d31ec8f",
   "metadata": {},
   "outputs": [],
   "source": [
    "def sentiment_s(text):\n",
    "    sentiment_score = TextBlob(text).sentiment.subjectivity\n",
    "    return sentiment_score"
   ]
  },
  {
   "cell_type": "code",
   "execution_count": 52,
   "id": "15a5d1c0-e3a5-4220-919f-cc5d6577ea89",
   "metadata": {},
   "outputs": [
    {
     "name": "stdout",
     "output_type": "stream",
     "text": [
      "CPU times: total: 1.3 s\n",
      "Wall time: 1.3 s\n"
     ]
    }
   ],
   "source": [
    "%%time\n",
    "df[\"Reviews_Sentiment_polarity\"]= df[\"text_lemmatized\"].apply(sentiment_p)"
   ]
  },
  {
   "cell_type": "code",
   "execution_count": 53,
   "id": "5307c963-4610-4df3-aecb-97447cb8af53",
   "metadata": {},
   "outputs": [
    {
     "name": "stdout",
     "output_type": "stream",
     "text": [
      "CPU times: total: 1.27 s\n",
      "Wall time: 1.26 s\n"
     ]
    }
   ],
   "source": [
    "%%time\n",
    "df[\"Reviews_Sentiment_subjectivity\"]= df[\"text_lemmatized\"].apply(sentiment_s)"
   ]
  },
  {
   "cell_type": "code",
   "execution_count": 54,
   "id": "d71c6ece-9870-41ff-a6a0-a8110fa50c5c",
   "metadata": {},
   "outputs": [
    {
     "data": {
      "text/html": [
       "<div>\n",
       "<style scoped>\n",
       "    .dataframe tbody tr th:only-of-type {\n",
       "        vertical-align: middle;\n",
       "    }\n",
       "\n",
       "    .dataframe tbody tr th {\n",
       "        vertical-align: top;\n",
       "    }\n",
       "\n",
       "    .dataframe thead th {\n",
       "        text-align: right;\n",
       "    }\n",
       "</style>\n",
       "<table border=\"1\" class=\"dataframe\">\n",
       "  <thead>\n",
       "    <tr style=\"text-align: right;\">\n",
       "      <th></th>\n",
       "      <th>Product Name</th>\n",
       "      <th>Brand Name</th>\n",
       "      <th>Price</th>\n",
       "      <th>Rating</th>\n",
       "      <th>Reviews</th>\n",
       "      <th>Review Votes</th>\n",
       "      <th>text_lower</th>\n",
       "      <th>text_url</th>\n",
       "      <th>text_punct</th>\n",
       "      <th>text_stopwords</th>\n",
       "      <th>text_correct</th>\n",
       "      <th>text_emoji</th>\n",
       "      <th>text_removetag</th>\n",
       "      <th>text_lemmatized</th>\n",
       "      <th>Reviews_Sentiment_polarity</th>\n",
       "      <th>Reviews_Sentiment_subjectivity</th>\n",
       "    </tr>\n",
       "  </thead>\n",
       "  <tbody>\n",
       "    <tr>\n",
       "      <th>0</th>\n",
       "      <td>\"CLEAR CLEAN ESN\" Sprint EPIC 4G Galaxy SPH-D7...</td>\n",
       "      <td>Samsung</td>\n",
       "      <td>199.99</td>\n",
       "      <td>5</td>\n",
       "      <td>I feel so LUCKY to have found this used (phone...</td>\n",
       "      <td>1.0</td>\n",
       "      <td>i feel so lucky to have found this used (phone...</td>\n",
       "      <td>i feel so lucky to have found this used (phone...</td>\n",
       "      <td>i feel so lucky to have found this used phone ...</td>\n",
       "      <td>feel lucky found used phone us used hard phone...</td>\n",
       "      <td>feel lucky found used phone us used hard phone...</td>\n",
       "      <td>feel lucky found used phone us used hard phone...</td>\n",
       "      <td>feel lucky found used phone us used hard phone...</td>\n",
       "      <td>feel lucky found used phone u used hard phone ...</td>\n",
       "      <td>0.157381</td>\n",
       "      <td>0.587857</td>\n",
       "    </tr>\n",
       "    <tr>\n",
       "      <th>1</th>\n",
       "      <td>\"CLEAR CLEAN ESN\" Sprint EPIC 4G Galaxy SPH-D7...</td>\n",
       "      <td>Samsung</td>\n",
       "      <td>199.99</td>\n",
       "      <td>4</td>\n",
       "      <td>nice phone, nice up grade from my pantach revu...</td>\n",
       "      <td>0.0</td>\n",
       "      <td>nice phone, nice up grade from my pantach revu...</td>\n",
       "      <td>nice phone, nice up grade from my pantach revu...</td>\n",
       "      <td>nice phone nice up grade from my pantach revue...</td>\n",
       "      <td>nice phone nice grade pantach revue clean set ...</td>\n",
       "      <td>nice phone nice grade patch review clean set e...</td>\n",
       "      <td>nice phone nice grade patch review clean set e...</td>\n",
       "      <td>nice phone nice grade patch review clean set e...</td>\n",
       "      <td>nice phone nice grade patch review clean set e...</td>\n",
       "      <td>0.437037</td>\n",
       "      <td>0.738889</td>\n",
       "    </tr>\n",
       "    <tr>\n",
       "      <th>2</th>\n",
       "      <td>\"CLEAR CLEAN ESN\" Sprint EPIC 4G Galaxy SPH-D7...</td>\n",
       "      <td>Samsung</td>\n",
       "      <td>199.99</td>\n",
       "      <td>5</td>\n",
       "      <td>Very pleased</td>\n",
       "      <td>0.0</td>\n",
       "      <td>very pleased</td>\n",
       "      <td>very pleased</td>\n",
       "      <td>very pleased</td>\n",
       "      <td>pleased</td>\n",
       "      <td>pleased</td>\n",
       "      <td>pleased</td>\n",
       "      <td>pleased</td>\n",
       "      <td>pleased</td>\n",
       "      <td>0.500000</td>\n",
       "      <td>1.000000</td>\n",
       "    </tr>\n",
       "    <tr>\n",
       "      <th>3</th>\n",
       "      <td>\"CLEAR CLEAN ESN\" Sprint EPIC 4G Galaxy SPH-D7...</td>\n",
       "      <td>Samsung</td>\n",
       "      <td>199.99</td>\n",
       "      <td>4</td>\n",
       "      <td>It works good but it goes slow sometimes but i...</td>\n",
       "      <td>0.0</td>\n",
       "      <td>it works good but it goes slow sometimes but i...</td>\n",
       "      <td>it works good but it goes slow sometimes but i...</td>\n",
       "      <td>it works good but it goes slow sometimes but i...</td>\n",
       "      <td>works good goes slow sometimes good phone love</td>\n",
       "      <td>works good goes slow sometimes good phone love</td>\n",
       "      <td>works good goes slow sometimes good phone love</td>\n",
       "      <td>works good goes slow sometimes good phone love</td>\n",
       "      <td>work good go slow sometimes good phone love</td>\n",
       "      <td>0.400000</td>\n",
       "      <td>0.550000</td>\n",
       "    </tr>\n",
       "    <tr>\n",
       "      <th>4</th>\n",
       "      <td>\"CLEAR CLEAN ESN\" Sprint EPIC 4G Galaxy SPH-D7...</td>\n",
       "      <td>Samsung</td>\n",
       "      <td>199.99</td>\n",
       "      <td>4</td>\n",
       "      <td>Great phone to replace my lost phone. The only...</td>\n",
       "      <td>0.0</td>\n",
       "      <td>great phone to replace my lost phone. the only...</td>\n",
       "      <td>great phone to replace my lost phone. the only...</td>\n",
       "      <td>great phone to replace my lost phone the only ...</td>\n",
       "      <td>great phone replace lost phone thing volume bu...</td>\n",
       "      <td>great phone replace lost phone thing volume bu...</td>\n",
       "      <td>great phone replace lost phone thing volume bu...</td>\n",
       "      <td>great phone replace lost phone thing volume bu...</td>\n",
       "      <td>great phone replace lost phone thing volume bu...</td>\n",
       "      <td>0.800000</td>\n",
       "      <td>0.750000</td>\n",
       "    </tr>\n",
       "  </tbody>\n",
       "</table>\n",
       "</div>"
      ],
      "text/plain": [
       "                                        Product Name Brand Name   Price  \\\n",
       "0  \"CLEAR CLEAN ESN\" Sprint EPIC 4G Galaxy SPH-D7...    Samsung  199.99   \n",
       "1  \"CLEAR CLEAN ESN\" Sprint EPIC 4G Galaxy SPH-D7...    Samsung  199.99   \n",
       "2  \"CLEAR CLEAN ESN\" Sprint EPIC 4G Galaxy SPH-D7...    Samsung  199.99   \n",
       "3  \"CLEAR CLEAN ESN\" Sprint EPIC 4G Galaxy SPH-D7...    Samsung  199.99   \n",
       "4  \"CLEAR CLEAN ESN\" Sprint EPIC 4G Galaxy SPH-D7...    Samsung  199.99   \n",
       "\n",
       "   Rating                                            Reviews  Review Votes  \\\n",
       "0       5  I feel so LUCKY to have found this used (phone...           1.0   \n",
       "1       4  nice phone, nice up grade from my pantach revu...           0.0   \n",
       "2       5                                       Very pleased           0.0   \n",
       "3       4  It works good but it goes slow sometimes but i...           0.0   \n",
       "4       4  Great phone to replace my lost phone. The only...           0.0   \n",
       "\n",
       "                                          text_lower  \\\n",
       "0  i feel so lucky to have found this used (phone...   \n",
       "1  nice phone, nice up grade from my pantach revu...   \n",
       "2                                       very pleased   \n",
       "3  it works good but it goes slow sometimes but i...   \n",
       "4  great phone to replace my lost phone. the only...   \n",
       "\n",
       "                                            text_url  \\\n",
       "0  i feel so lucky to have found this used (phone...   \n",
       "1  nice phone, nice up grade from my pantach revu...   \n",
       "2                                       very pleased   \n",
       "3  it works good but it goes slow sometimes but i...   \n",
       "4  great phone to replace my lost phone. the only...   \n",
       "\n",
       "                                          text_punct  \\\n",
       "0  i feel so lucky to have found this used phone ...   \n",
       "1  nice phone nice up grade from my pantach revue...   \n",
       "2                                       very pleased   \n",
       "3  it works good but it goes slow sometimes but i...   \n",
       "4  great phone to replace my lost phone the only ...   \n",
       "\n",
       "                                      text_stopwords  \\\n",
       "0  feel lucky found used phone us used hard phone...   \n",
       "1  nice phone nice grade pantach revue clean set ...   \n",
       "2                                            pleased   \n",
       "3     works good goes slow sometimes good phone love   \n",
       "4  great phone replace lost phone thing volume bu...   \n",
       "\n",
       "                                        text_correct  \\\n",
       "0  feel lucky found used phone us used hard phone...   \n",
       "1  nice phone nice grade patch review clean set e...   \n",
       "2                                            pleased   \n",
       "3     works good goes slow sometimes good phone love   \n",
       "4  great phone replace lost phone thing volume bu...   \n",
       "\n",
       "                                          text_emoji  \\\n",
       "0  feel lucky found used phone us used hard phone...   \n",
       "1  nice phone nice grade patch review clean set e...   \n",
       "2                                            pleased   \n",
       "3     works good goes slow sometimes good phone love   \n",
       "4  great phone replace lost phone thing volume bu...   \n",
       "\n",
       "                                      text_removetag  \\\n",
       "0  feel lucky found used phone us used hard phone...   \n",
       "1  nice phone nice grade patch review clean set e...   \n",
       "2                                            pleased   \n",
       "3     works good goes slow sometimes good phone love   \n",
       "4  great phone replace lost phone thing volume bu...   \n",
       "\n",
       "                                     text_lemmatized  \\\n",
       "0  feel lucky found used phone u used hard phone ...   \n",
       "1  nice phone nice grade patch review clean set e...   \n",
       "2                                            pleased   \n",
       "3        work good go slow sometimes good phone love   \n",
       "4  great phone replace lost phone thing volume bu...   \n",
       "\n",
       "   Reviews_Sentiment_polarity  Reviews_Sentiment_subjectivity  \n",
       "0                    0.157381                        0.587857  \n",
       "1                    0.437037                        0.738889  \n",
       "2                    0.500000                        1.000000  \n",
       "3                    0.400000                        0.550000  \n",
       "4                    0.800000                        0.750000  "
      ]
     },
     "execution_count": 54,
     "metadata": {},
     "output_type": "execute_result"
    }
   ],
   "source": [
    "df.head()"
   ]
  },
  {
   "cell_type": "markdown",
   "id": "9ab23403-9604-4a5a-9562-b5db1ef6025b",
   "metadata": {},
   "source": [
    "#                                    Return value according to Sentiment Ploarity Score"
   ]
  },
  {
   "cell_type": "code",
   "execution_count": 55,
   "id": "11dfbe1f-76d1-4e49-95e5-43befecf9651",
   "metadata": {},
   "outputs": [],
   "source": [
    "def sentiment(value):\n",
    "    if value > 0:\n",
    "        return 'POSITIVE'\n",
    "    if value < 0:\n",
    "        return 'NEGATIVE'\n",
    "    else:\n",
    "        return 'NEUTRAL'"
   ]
  },
  {
   "cell_type": "code",
   "execution_count": 56,
   "id": "90162067-e379-4633-9bf1-9e28072b7aba",
   "metadata": {},
   "outputs": [],
   "source": [
    "df['Sentiment']=df['Reviews_Sentiment_polarity'].apply(sentiment)"
   ]
  },
  {
   "cell_type": "markdown",
   "id": "c3a8cffa-0543-485a-9884-850f5c5ee1a8",
   "metadata": {},
   "source": [
    " #                                   Return value according to Sentiment Subjectivity Score"
   ]
  },
  {
   "cell_type": "code",
   "execution_count": 57,
   "id": "f03afa20-3d26-45d4-bb93-d5f9029c1217",
   "metadata": {},
   "outputs": [],
   "source": [
    "def subjective(value):\n",
    "    if value > 0.0:\n",
    "        return 'objective'\n",
    "    else:\n",
    "        return 'subjective'"
   ]
  },
  {
   "cell_type": "code",
   "execution_count": 58,
   "id": "900bc6ba-6c46-48ac-8fd8-e2f0b7f14176",
   "metadata": {},
   "outputs": [],
   "source": [
    "df['Subjectivity']=df['Reviews_Sentiment_subjectivity'].apply(subjective)"
   ]
  },
  {
   "cell_type": "code",
   "execution_count": 59,
   "id": "87a43ab3-148e-4a6b-936a-7acd432251aa",
   "metadata": {},
   "outputs": [
    {
     "data": {
      "text/html": [
       "<div>\n",
       "<style scoped>\n",
       "    .dataframe tbody tr th:only-of-type {\n",
       "        vertical-align: middle;\n",
       "    }\n",
       "\n",
       "    .dataframe tbody tr th {\n",
       "        vertical-align: top;\n",
       "    }\n",
       "\n",
       "    .dataframe thead th {\n",
       "        text-align: right;\n",
       "    }\n",
       "</style>\n",
       "<table border=\"1\" class=\"dataframe\">\n",
       "  <thead>\n",
       "    <tr style=\"text-align: right;\">\n",
       "      <th></th>\n",
       "      <th>Product Name</th>\n",
       "      <th>Brand Name</th>\n",
       "      <th>Price</th>\n",
       "      <th>Rating</th>\n",
       "      <th>Reviews</th>\n",
       "      <th>Review Votes</th>\n",
       "      <th>text_lower</th>\n",
       "      <th>text_url</th>\n",
       "      <th>text_punct</th>\n",
       "      <th>text_stopwords</th>\n",
       "      <th>text_correct</th>\n",
       "      <th>text_emoji</th>\n",
       "      <th>text_removetag</th>\n",
       "      <th>text_lemmatized</th>\n",
       "      <th>Reviews_Sentiment_polarity</th>\n",
       "      <th>Reviews_Sentiment_subjectivity</th>\n",
       "      <th>Sentiment</th>\n",
       "      <th>Subjectivity</th>\n",
       "    </tr>\n",
       "  </thead>\n",
       "  <tbody>\n",
       "    <tr>\n",
       "      <th>0</th>\n",
       "      <td>\"CLEAR CLEAN ESN\" Sprint EPIC 4G Galaxy SPH-D7...</td>\n",
       "      <td>Samsung</td>\n",
       "      <td>199.99</td>\n",
       "      <td>5</td>\n",
       "      <td>I feel so LUCKY to have found this used (phone...</td>\n",
       "      <td>1.0</td>\n",
       "      <td>i feel so lucky to have found this used (phone...</td>\n",
       "      <td>i feel so lucky to have found this used (phone...</td>\n",
       "      <td>i feel so lucky to have found this used phone ...</td>\n",
       "      <td>feel lucky found used phone us used hard phone...</td>\n",
       "      <td>feel lucky found used phone us used hard phone...</td>\n",
       "      <td>feel lucky found used phone us used hard phone...</td>\n",
       "      <td>feel lucky found used phone us used hard phone...</td>\n",
       "      <td>feel lucky found used phone u used hard phone ...</td>\n",
       "      <td>0.157381</td>\n",
       "      <td>0.587857</td>\n",
       "      <td>POSITIVE</td>\n",
       "      <td>objective</td>\n",
       "    </tr>\n",
       "    <tr>\n",
       "      <th>1</th>\n",
       "      <td>\"CLEAR CLEAN ESN\" Sprint EPIC 4G Galaxy SPH-D7...</td>\n",
       "      <td>Samsung</td>\n",
       "      <td>199.99</td>\n",
       "      <td>4</td>\n",
       "      <td>nice phone, nice up grade from my pantach revu...</td>\n",
       "      <td>0.0</td>\n",
       "      <td>nice phone, nice up grade from my pantach revu...</td>\n",
       "      <td>nice phone, nice up grade from my pantach revu...</td>\n",
       "      <td>nice phone nice up grade from my pantach revue...</td>\n",
       "      <td>nice phone nice grade pantach revue clean set ...</td>\n",
       "      <td>nice phone nice grade patch review clean set e...</td>\n",
       "      <td>nice phone nice grade patch review clean set e...</td>\n",
       "      <td>nice phone nice grade patch review clean set e...</td>\n",
       "      <td>nice phone nice grade patch review clean set e...</td>\n",
       "      <td>0.437037</td>\n",
       "      <td>0.738889</td>\n",
       "      <td>POSITIVE</td>\n",
       "      <td>objective</td>\n",
       "    </tr>\n",
       "    <tr>\n",
       "      <th>2</th>\n",
       "      <td>\"CLEAR CLEAN ESN\" Sprint EPIC 4G Galaxy SPH-D7...</td>\n",
       "      <td>Samsung</td>\n",
       "      <td>199.99</td>\n",
       "      <td>5</td>\n",
       "      <td>Very pleased</td>\n",
       "      <td>0.0</td>\n",
       "      <td>very pleased</td>\n",
       "      <td>very pleased</td>\n",
       "      <td>very pleased</td>\n",
       "      <td>pleased</td>\n",
       "      <td>pleased</td>\n",
       "      <td>pleased</td>\n",
       "      <td>pleased</td>\n",
       "      <td>pleased</td>\n",
       "      <td>0.500000</td>\n",
       "      <td>1.000000</td>\n",
       "      <td>POSITIVE</td>\n",
       "      <td>objective</td>\n",
       "    </tr>\n",
       "    <tr>\n",
       "      <th>3</th>\n",
       "      <td>\"CLEAR CLEAN ESN\" Sprint EPIC 4G Galaxy SPH-D7...</td>\n",
       "      <td>Samsung</td>\n",
       "      <td>199.99</td>\n",
       "      <td>4</td>\n",
       "      <td>It works good but it goes slow sometimes but i...</td>\n",
       "      <td>0.0</td>\n",
       "      <td>it works good but it goes slow sometimes but i...</td>\n",
       "      <td>it works good but it goes slow sometimes but i...</td>\n",
       "      <td>it works good but it goes slow sometimes but i...</td>\n",
       "      <td>works good goes slow sometimes good phone love</td>\n",
       "      <td>works good goes slow sometimes good phone love</td>\n",
       "      <td>works good goes slow sometimes good phone love</td>\n",
       "      <td>works good goes slow sometimes good phone love</td>\n",
       "      <td>work good go slow sometimes good phone love</td>\n",
       "      <td>0.400000</td>\n",
       "      <td>0.550000</td>\n",
       "      <td>POSITIVE</td>\n",
       "      <td>objective</td>\n",
       "    </tr>\n",
       "    <tr>\n",
       "      <th>4</th>\n",
       "      <td>\"CLEAR CLEAN ESN\" Sprint EPIC 4G Galaxy SPH-D7...</td>\n",
       "      <td>Samsung</td>\n",
       "      <td>199.99</td>\n",
       "      <td>4</td>\n",
       "      <td>Great phone to replace my lost phone. The only...</td>\n",
       "      <td>0.0</td>\n",
       "      <td>great phone to replace my lost phone. the only...</td>\n",
       "      <td>great phone to replace my lost phone. the only...</td>\n",
       "      <td>great phone to replace my lost phone the only ...</td>\n",
       "      <td>great phone replace lost phone thing volume bu...</td>\n",
       "      <td>great phone replace lost phone thing volume bu...</td>\n",
       "      <td>great phone replace lost phone thing volume bu...</td>\n",
       "      <td>great phone replace lost phone thing volume bu...</td>\n",
       "      <td>great phone replace lost phone thing volume bu...</td>\n",
       "      <td>0.800000</td>\n",
       "      <td>0.750000</td>\n",
       "      <td>POSITIVE</td>\n",
       "      <td>objective</td>\n",
       "    </tr>\n",
       "  </tbody>\n",
       "</table>\n",
       "</div>"
      ],
      "text/plain": [
       "                                        Product Name Brand Name   Price  \\\n",
       "0  \"CLEAR CLEAN ESN\" Sprint EPIC 4G Galaxy SPH-D7...    Samsung  199.99   \n",
       "1  \"CLEAR CLEAN ESN\" Sprint EPIC 4G Galaxy SPH-D7...    Samsung  199.99   \n",
       "2  \"CLEAR CLEAN ESN\" Sprint EPIC 4G Galaxy SPH-D7...    Samsung  199.99   \n",
       "3  \"CLEAR CLEAN ESN\" Sprint EPIC 4G Galaxy SPH-D7...    Samsung  199.99   \n",
       "4  \"CLEAR CLEAN ESN\" Sprint EPIC 4G Galaxy SPH-D7...    Samsung  199.99   \n",
       "\n",
       "   Rating                                            Reviews  Review Votes  \\\n",
       "0       5  I feel so LUCKY to have found this used (phone...           1.0   \n",
       "1       4  nice phone, nice up grade from my pantach revu...           0.0   \n",
       "2       5                                       Very pleased           0.0   \n",
       "3       4  It works good but it goes slow sometimes but i...           0.0   \n",
       "4       4  Great phone to replace my lost phone. The only...           0.0   \n",
       "\n",
       "                                          text_lower  \\\n",
       "0  i feel so lucky to have found this used (phone...   \n",
       "1  nice phone, nice up grade from my pantach revu...   \n",
       "2                                       very pleased   \n",
       "3  it works good but it goes slow sometimes but i...   \n",
       "4  great phone to replace my lost phone. the only...   \n",
       "\n",
       "                                            text_url  \\\n",
       "0  i feel so lucky to have found this used (phone...   \n",
       "1  nice phone, nice up grade from my pantach revu...   \n",
       "2                                       very pleased   \n",
       "3  it works good but it goes slow sometimes but i...   \n",
       "4  great phone to replace my lost phone. the only...   \n",
       "\n",
       "                                          text_punct  \\\n",
       "0  i feel so lucky to have found this used phone ...   \n",
       "1  nice phone nice up grade from my pantach revue...   \n",
       "2                                       very pleased   \n",
       "3  it works good but it goes slow sometimes but i...   \n",
       "4  great phone to replace my lost phone the only ...   \n",
       "\n",
       "                                      text_stopwords  \\\n",
       "0  feel lucky found used phone us used hard phone...   \n",
       "1  nice phone nice grade pantach revue clean set ...   \n",
       "2                                            pleased   \n",
       "3     works good goes slow sometimes good phone love   \n",
       "4  great phone replace lost phone thing volume bu...   \n",
       "\n",
       "                                        text_correct  \\\n",
       "0  feel lucky found used phone us used hard phone...   \n",
       "1  nice phone nice grade patch review clean set e...   \n",
       "2                                            pleased   \n",
       "3     works good goes slow sometimes good phone love   \n",
       "4  great phone replace lost phone thing volume bu...   \n",
       "\n",
       "                                          text_emoji  \\\n",
       "0  feel lucky found used phone us used hard phone...   \n",
       "1  nice phone nice grade patch review clean set e...   \n",
       "2                                            pleased   \n",
       "3     works good goes slow sometimes good phone love   \n",
       "4  great phone replace lost phone thing volume bu...   \n",
       "\n",
       "                                      text_removetag  \\\n",
       "0  feel lucky found used phone us used hard phone...   \n",
       "1  nice phone nice grade patch review clean set e...   \n",
       "2                                            pleased   \n",
       "3     works good goes slow sometimes good phone love   \n",
       "4  great phone replace lost phone thing volume bu...   \n",
       "\n",
       "                                     text_lemmatized  \\\n",
       "0  feel lucky found used phone u used hard phone ...   \n",
       "1  nice phone nice grade patch review clean set e...   \n",
       "2                                            pleased   \n",
       "3        work good go slow sometimes good phone love   \n",
       "4  great phone replace lost phone thing volume bu...   \n",
       "\n",
       "   Reviews_Sentiment_polarity  Reviews_Sentiment_subjectivity Sentiment  \\\n",
       "0                    0.157381                        0.587857  POSITIVE   \n",
       "1                    0.437037                        0.738889  POSITIVE   \n",
       "2                    0.500000                        1.000000  POSITIVE   \n",
       "3                    0.400000                        0.550000  POSITIVE   \n",
       "4                    0.800000                        0.750000  POSITIVE   \n",
       "\n",
       "  Subjectivity  \n",
       "0    objective  \n",
       "1    objective  \n",
       "2    objective  \n",
       "3    objective  \n",
       "4    objective  "
      ]
     },
     "execution_count": 59,
     "metadata": {},
     "output_type": "execute_result"
    }
   ],
   "source": [
    "df.head()"
   ]
  },
  {
   "cell_type": "code",
   "execution_count": 60,
   "id": "1c8862b6-a038-4730-8017-c7b172914181",
   "metadata": {},
   "outputs": [],
   "source": [
    "filename = 'Sentimental_analysis_Amazon_Data.csv'\n",
    "df.to_csv(filename)"
   ]
  },
  {
   "cell_type": "markdown",
   "id": "f91cb5c9-695a-40cc-a0f1-a3036010ec33",
   "metadata": {},
   "source": [
    "# Countplot of Sentiment"
   ]
  },
  {
   "cell_type": "code",
   "execution_count": 61,
   "id": "4dfd36eb-1eaa-42ca-8fad-e885d59d0ea6",
   "metadata": {},
   "outputs": [
    {
     "data": {
      "image/png": "[encoded data removed]",
      "text/plain": [
       "<Figure size 432x288 with 1 Axes>"
      ]
     },
     "metadata": {},
     "output_type": "display_data"
    }
   ],
   "source": [
    "import seaborn as sns\n",
    "sns.set_theme(style=\"darkgrid\")\n",
    "#titanic = sns.load_dataset(\"titanic\")\n",
    "ax = sns.countplot(x=\"Sentiment\", data=df)"
   ]
  },
  {
   "cell_type": "markdown",
   "id": "769288a3-2c73-4945-a218-a71ca39cb7c2",
   "metadata": {},
   "source": [
    "# Sentiment with Sentimental Analysis Method"
   ]
  },
  {
   "cell_type": "code",
   "execution_count": 62,
   "id": "1e7ad5b7-7647-4fd2-b16d-2873183c45df",
   "metadata": {},
   "outputs": [
    {
     "data": {
      "image/png": "[encoded data removed]",
      "text/plain": [
       "<Figure size 504x432 with 1 Axes>"
      ]
     },
     "metadata": {},
     "output_type": "display_data"
    }
   ],
   "source": [
    "import matplotlib.pyplot as plt\n",
    "Sentiment = df['Sentiment'].value_counts()\n",
    "plt.figure(figsize=(7, 6))\n",
    "ax = Sentiment.plot(kind='bar', rot=0, color=sns.color_palette(\"RdYlGn\", 6))\n",
    "ax.set_title(\"Sentiment with Sentimental Analysis Method\", y = 1)\n",
    "ax.set_xlabel('Ratings of Reviews')\n",
    "ax.set_ylabel('Number of reviews corresponding to each of 5 ratings')\n",
    "ax.set_xticklabels(('Positive', 'Negative', 'Neutral'))\n",
    "\n",
    "for rect in ax.patches:\n",
    "    y_value = rect.get_height()\n",
    "    x_value = rect.get_x() + rect.get_width() / 2\n",
    "    space = 1\n",
    "    label = \"{:.0f}\".format(y_value)\n",
    "    ax.annotate(label, (x_value, y_value), xytext=(0, space), textcoords=\"offset points\", ha='center', va='bottom')\n",
    "plt.show()"
   ]
  },
  {
   "cell_type": "markdown",
   "id": "a5cd7f69-bd57-41fd-ab56-b353cc04a949",
   "metadata": {},
   "source": [
    " #                                   Extract Output to MYSQL"
   ]
  },
  {
   "cell_type": "code",
   "execution_count": 63,
   "id": "59db19f1-f3da-49a4-a5d1-ac47b15df5c9",
   "metadata": {},
   "outputs": [
    {
     "name": "stdout",
     "output_type": "stream",
     "text": [
      "Requirement already satisfied: mysql-connector-python in c:\\users\\prngr\\appdata\\local\\programs\\python\\python310\\lib\\site-packages (8.0.30)\n",
      "Requirement already satisfied: protobuf<=3.20.1,>=3.11.0 in c:\\users\\prngr\\appdata\\local\\programs\\python\\python310\\lib\\site-packages (from mysql-connector-python) (3.20.1)\n",
      "Note: you may need to restart the kernel to use updated packages.\n"
     ]
    },
    {
     "name": "stderr",
     "output_type": "stream",
     "text": [
      "WARNING: Ignoring invalid distribution -illow (c:\\users\\prngr\\appdata\\local\\programs\\python\\python310\\lib\\site-packages)\n",
      "WARNING: Ignoring invalid distribution - (c:\\users\\prngr\\appdata\\local\\programs\\python\\python310\\lib\\site-packages)\n",
      "WARNING: Ignoring invalid distribution -atplotlib (c:\\users\\prngr\\appdata\\local\\programs\\python\\python310\\lib\\site-packages)\n",
      "WARNING: Ignoring invalid distribution -illow (c:\\users\\prngr\\appdata\\local\\programs\\python\\python310\\lib\\site-packages)\n",
      "WARNING: Ignoring invalid distribution - (c:\\users\\prngr\\appdata\\local\\programs\\python\\python310\\lib\\site-packages)\n",
      "WARNING: Ignoring invalid distribution -atplotlib (c:\\users\\prngr\\appdata\\local\\programs\\python\\python310\\lib\\site-packages)\n",
      "WARNING: Ignoring invalid distribution -illow (c:\\users\\prngr\\appdata\\local\\programs\\python\\python310\\lib\\site-packages)\n",
      "WARNING: Ignoring invalid distribution - (c:\\users\\prngr\\appdata\\local\\programs\\python\\python310\\lib\\site-packages)\n",
      "WARNING: Ignoring invalid distribution -atplotlib (c:\\users\\prngr\\appdata\\local\\programs\\python\\python310\\lib\\site-packages)\n",
      "WARNING: Ignoring invalid distribution -illow (c:\\users\\prngr\\appdata\\local\\programs\\python\\python310\\lib\\site-packages)\n",
      "WARNING: Ignoring invalid distribution - (c:\\users\\prngr\\appdata\\local\\programs\\python\\python310\\lib\\site-packages)\n",
      "WARNING: Ignoring invalid distribution -atplotlib (c:\\users\\prngr\\appdata\\local\\programs\\python\\python310\\lib\\site-packages)\n",
      "WARNING: Ignoring invalid distribution -illow (c:\\users\\prngr\\appdata\\local\\programs\\python\\python310\\lib\\site-packages)\n",
      "WARNING: Ignoring invalid distribution - (c:\\users\\prngr\\appdata\\local\\programs\\python\\python310\\lib\\site-packages)\n",
      "WARNING: Ignoring invalid distribution -atplotlib (c:\\users\\prngr\\appdata\\local\\programs\\python\\python310\\lib\\site-packages)\n",
      "WARNING: Ignoring invalid distribution -illow (c:\\users\\prngr\\appdata\\local\\programs\\python\\python310\\lib\\site-packages)\n",
      "WARNING: Ignoring invalid distribution - (c:\\users\\prngr\\appdata\\local\\programs\\python\\python310\\lib\\site-packages)\n",
      "WARNING: Ignoring invalid distribution -atplotlib (c:\\users\\prngr\\appdata\\local\\programs\\python\\python310\\lib\\site-packages)\n",
      "\n",
      "[notice] A new release of pip available: 22.2.2 -> 22.3.1\n",
      "[notice] To update, run: C:\\Users\\prngr\\AppData\\Local\\Programs\\Python\\Python310\\python.exe -m pip install --upgrade pip\n"
     ]
    }
   ],
   "source": [
    "pip install mysql-connector-python"
   ]
  },
  {
   "cell_type": "code",
   "execution_count": 64,
   "id": "58670197-b2ea-49c5-9893-e7bdf1f71ece",
   "metadata": {},
   "outputs": [
    {
     "name": "stdout",
     "output_type": "stream",
     "text": [
      "Requirement already satisfied: pandas in c:\\users\\prngr\\appdata\\local\\programs\\python\\python310\\lib\\site-packages (1.5.2)Note: you may need to restart the kernel to use updated packages.\n"
     ]
    },
    {
     "name": "stderr",
     "output_type": "stream",
     "text": [
      "WARNING: Ignoring invalid distribution -illow (c:\\users\\prngr\\appdata\\local\\programs\\python\\python310\\lib\\site-packages)\n",
      "WARNING: Ignoring invalid distribution - (c:\\users\\prngr\\appdata\\local\\programs\\python\\python310\\lib\\site-packages)\n",
      "WARNING: Ignoring invalid distribution -atplotlib (c:\\users\\prngr\\appdata\\local\\programs\\python\\python310\\lib\\site-packages)\n",
      "WARNING: Ignoring invalid distribution -illow (c:\\users\\prngr\\appdata\\local\\programs\\python\\python310\\lib\\site-packages)\n",
      "WARNING: Ignoring invalid distribution - (c:\\users\\prngr\\appdata\\local\\programs\\python\\python310\\lib\\site-packages)\n",
      "WARNING: Ignoring invalid distribution -atplotlib (c:\\users\\prngr\\appdata\\local\\programs\\python\\python310\\lib\\site-packages)\n",
      "WARNING: Ignoring invalid distribution -illow (c:\\users\\prngr\\appdata\\local\\programs\\python\\python310\\lib\\site-packages)"
     ]
    },
    {
     "name": "stdout",
     "output_type": "stream",
     "text": [
      "\n",
      "Requirement already satisfied: python-dateutil>=2.8.1 in c:\\users\\prngr\\appdata\\local\\programs\\python\\python310\\lib\\site-packages (from pandas) (2.8.2)\n",
      "Requirement already satisfied: pytz>=2020.1 in c:\\users\\prngr\\appdata\\local\\programs\\python\\python310\\lib\\site-packages (from pandas) (2021.3)\n",
      "Requirement already satisfied: numpy>=1.21.0 in c:\\users\\prngr\\appdata\\local\\programs\\python\\python310\\lib\\site-packages (from pandas) (1.22.4)\n",
      "Requirement already satisfied: six>=1.5 in c:\\users\\prngr\\appdata\\local\\programs\\python\\python310\\lib\\site-packages (from python-dateutil>=2.8.1->pandas) (1.16.0)\n"
     ]
    },
    {
     "name": "stderr",
     "output_type": "stream",
     "text": [
      "\n",
      "WARNING: Ignoring invalid distribution - (c:\\users\\prngr\\appdata\\local\\programs\\python\\python310\\lib\\site-packages)\n",
      "WARNING: Ignoring invalid distribution -atplotlib (c:\\users\\prngr\\appdata\\local\\programs\\python\\python310\\lib\\site-packages)\n",
      "WARNING: Ignoring invalid distribution -illow (c:\\users\\prngr\\appdata\\local\\programs\\python\\python310\\lib\\site-packages)\n",
      "WARNING: Ignoring invalid distribution - (c:\\users\\prngr\\appdata\\local\\programs\\python\\python310\\lib\\site-packages)\n",
      "WARNING: Ignoring invalid distribution -atplotlib (c:\\users\\prngr\\appdata\\local\\programs\\python\\python310\\lib\\site-packages)\n",
      "WARNING: Ignoring invalid distribution -illow (c:\\users\\prngr\\appdata\\local\\programs\\python\\python310\\lib\\site-packages)\n",
      "WARNING: Ignoring invalid distribution - (c:\\users\\prngr\\appdata\\local\\programs\\python\\python310\\lib\\site-packages)\n",
      "WARNING: Ignoring invalid distribution -atplotlib (c:\\users\\prngr\\appdata\\local\\programs\\python\\python310\\lib\\site-packages)\n",
      "WARNING: Ignoring invalid distribution -illow (c:\\users\\prngr\\appdata\\local\\programs\\python\\python310\\lib\\site-packages)\n",
      "WARNING: Ignoring invalid distribution - (c:\\users\\prngr\\appdata\\local\\programs\\python\\python310\\lib\\site-packages)\n",
      "WARNING: Ignoring invalid distribution -atplotlib (c:\\users\\prngr\\appdata\\local\\programs\\python\\python310\\lib\\site-packages)\n",
      "\n",
      "[notice] A new release of pip available: 22.2.2 -> 22.3.1\n",
      "[notice] To update, run: C:\\Users\\prngr\\AppData\\Local\\Programs\\Python\\Python310\\python.exe -m pip install --upgrade pip\n"
     ]
    }
   ],
   "source": [
    "pip install pandas"
   ]
  },
  {
   "cell_type": "code",
   "execution_count": 65,
   "id": "9f38282b-add2-4c3c-b8ce-758d441f4be7",
   "metadata": {},
   "outputs": [
    {
     "name": "stdout",
     "output_type": "stream",
     "text": [
      "CONNECTION SUCCESSFUL \n"
     ]
    }
   ],
   "source": [
    "import pyodbc as pyodbc\n",
    "conn_str = (\n",
    "    r'DRIVER={SQL Server};'\n",
    "    r'SERVER=LAPTOP-AAHQHGCP\\SQLEXPRESS;'\n",
    "    r'DATABASE=Sentimental_Analysis;'\n",
    "    r'Trusted_Connection=yes;'\n",
    ")\n",
    "cnxn = pyodbc.connect(conn_str)\n",
    "print('CONNECTION SUCCESSFUL ')"
   ]
  },
  {
   "cell_type": "code",
   "execution_count": 70,
   "id": "aa359d1b-60cf-4349-843a-9c8b4b6b45e6",
   "metadata": {},
   "outputs": [
    {
     "name": "stdout",
     "output_type": "stream",
     "text": [
      "An exception occurred\n",
      "An exception occurred\n",
      "An exception occurred\n",
      "Finish\n"
     ]
    }
   ],
   "source": [
    "import MySQLdb\n",
    "import csv\n",
    "import sys\n",
    "cursor = cnxn.cursor()\n",
    "#csv_data = csv.reader(open('Sentimental_analysis_Amazon_Data.csv'),encoding='cp850')\n",
    "#csv_data = csv.reader(open('Sample123.csv'))\n",
    "with open('Sentimental_analysis_Amazon_Data.csv', mode ='r',encoding='cp850')as file: \n",
    "  # reading the CSV file\n",
    "  csv_data = csv.reader(file)\n",
    "  header = next(csv_data)\n",
    "\n",
    "  #print('Importing the CSV Files')\n",
    "  for row in csv_data:\n",
    "    #print(row)\n",
    "    try:\n",
    "        cursor.execute(\n",
    "          \"INSERT INTO amazon_data VALUES (?, ?, ?, ?,?, ?, ?, ?,?, ?, ?, ?,?, ?, ?, ?,?,?,?)\", tuple(row))\n",
    "    except:\n",
    "        print(\"An exception occurred\")\n",
    "        \n",
    "        \n",
    "cnxn.commit()\n",
    "cursor.close()\n",
    "print(\"Finish\")"
   ]
  },
  {
   "cell_type": "code",
   "execution_count": null,
   "id": "c2fe7cce-71cd-42dc-9ccb-ea488eb20fdf",
   "metadata": {},
   "outputs": [],
   "source": []
  }
 ],
 "metadata": {
  "kernelspec": {
   "display_name": "Python 3 (ipykernel)",
   "language": "python",
   "name": "python3"
  },
  "language_info": {
   "codemirror_mode": {
    "name": "ipython",
    "version": 3
   },
   "file_extension": ".py",
   "mimetype": "text/x-python",
   "name": "python",
   "nbconvert_exporter": "python",
   "pygments_lexer": "ipython3",
   "version": "3.10.6"
  }
 },
 "nbformat": 4,
 "nbformat_minor": 5
}
